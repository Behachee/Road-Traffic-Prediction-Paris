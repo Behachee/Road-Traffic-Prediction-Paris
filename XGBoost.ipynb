{
 "cells": [
  {
   "cell_type": "code",
   "execution_count": 70,
   "metadata": {},
   "outputs": [],
   "source": [
    "import pandas as pd\n",
    "import numpy as np\n",
    "import matplotlib.pyplot as plt\n",
    "from datetime import datetime, date\n",
    "from sklearn.metrics import mean_squared_error\n",
    "import math\n",
    "import seaborn as sns\n",
    "from xgboost import XGBRegressor\n",
    "from sklearn.metrics import mean_absolute_error"
   ]
  },
  {
   "cell_type": "markdown",
   "metadata": {},
   "source": [
    "# Retrieving the last values"
   ]
  },
  {
   "cell_type": "code",
   "execution_count": 2,
   "metadata": {},
   "outputs": [
    {
     "data": {
      "text/html": [
       "<div>\n",
       "<style scoped>\n",
       "    .dataframe tbody tr th:only-of-type {\n",
       "        vertical-align: middle;\n",
       "    }\n",
       "\n",
       "    .dataframe tbody tr th {\n",
       "        vertical-align: top;\n",
       "    }\n",
       "\n",
       "    .dataframe thead th {\n",
       "        text-align: right;\n",
       "    }\n",
       "</style>\n",
       "<table border=\"1\" class=\"dataframe\">\n",
       "  <thead>\n",
       "    <tr style=\"text-align: right;\">\n",
       "      <th></th>\n",
       "      <th>Date et heure de comptage</th>\n",
       "      <th>Real Debit</th>\n",
       "    </tr>\n",
       "  </thead>\n",
       "  <tbody>\n",
       "    <tr>\n",
       "      <th>276</th>\n",
       "      <td>2023-12-01 00:00:00+00:00</td>\n",
       "      <td>857.0</td>\n",
       "    </tr>\n",
       "    <tr>\n",
       "      <th>285</th>\n",
       "      <td>2023-12-01 01:00:00+00:00</td>\n",
       "      <td>685.0</td>\n",
       "    </tr>\n",
       "    <tr>\n",
       "      <th>284</th>\n",
       "      <td>2023-12-01 02:00:00+00:00</td>\n",
       "      <td>694.0</td>\n",
       "    </tr>\n",
       "    <tr>\n",
       "      <th>40</th>\n",
       "      <td>2023-12-01 03:00:00+00:00</td>\n",
       "      <td>636.0</td>\n",
       "    </tr>\n",
       "    <tr>\n",
       "      <th>39</th>\n",
       "      <td>2023-12-01 04:00:00+00:00</td>\n",
       "      <td>438.0</td>\n",
       "    </tr>\n",
       "    <tr>\n",
       "      <th>...</th>\n",
       "      <td>...</td>\n",
       "      <td>...</td>\n",
       "    </tr>\n",
       "    <tr>\n",
       "      <th>85</th>\n",
       "      <td>2023-12-03 18:00:00+00:00</td>\n",
       "      <td>1464.0</td>\n",
       "    </tr>\n",
       "    <tr>\n",
       "      <th>130</th>\n",
       "      <td>2023-12-03 19:00:00+00:00</td>\n",
       "      <td>1385.0</td>\n",
       "    </tr>\n",
       "    <tr>\n",
       "      <th>84</th>\n",
       "      <td>2023-12-03 20:00:00+00:00</td>\n",
       "      <td>1200.0</td>\n",
       "    </tr>\n",
       "    <tr>\n",
       "      <th>129</th>\n",
       "      <td>2023-12-03 21:00:00+00:00</td>\n",
       "      <td>1266.0</td>\n",
       "    </tr>\n",
       "    <tr>\n",
       "      <th>128</th>\n",
       "      <td>2023-12-03 22:00:00+00:00</td>\n",
       "      <td>1044.0</td>\n",
       "    </tr>\n",
       "  </tbody>\n",
       "</table>\n",
       "<p>71 rows × 2 columns</p>\n",
       "</div>"
      ],
      "text/plain": [
       "    Date et heure de comptage  Real Debit\n",
       "276 2023-12-01 00:00:00+00:00       857.0\n",
       "285 2023-12-01 01:00:00+00:00       685.0\n",
       "284 2023-12-01 02:00:00+00:00       694.0\n",
       "40  2023-12-01 03:00:00+00:00       636.0\n",
       "39  2023-12-01 04:00:00+00:00       438.0\n",
       "..                        ...         ...\n",
       "85  2023-12-03 18:00:00+00:00      1464.0\n",
       "130 2023-12-03 19:00:00+00:00      1385.0\n",
       "84  2023-12-03 20:00:00+00:00      1200.0\n",
       "129 2023-12-03 21:00:00+00:00      1266.0\n",
       "128 2023-12-03 22:00:00+00:00      1044.0\n",
       "\n",
       "[71 rows x 2 columns]"
      ]
     },
     "execution_count": 2,
     "metadata": {},
     "output_type": "execute_result"
    }
   ],
   "source": [
    "traffic_reel = pd.read_csv('to_predict_traffic.csv', delimiter = ';') # do we want older or more recent data ?\n",
    "traffic_reel = traffic_reel[traffic_reel[\"Libelle noeud amont\"].isin(['Av_Champs_Elysees-Washington'])]\n",
    "traffic_reel = traffic_reel[traffic_reel[\"Libelle noeud aval\"].isin(['Av_Champs_Elysees-Berri']) ]\n",
    "traffic_reel[\"Date et heure de comptage\"] = pd.to_datetime(traffic_reel[\"Date et heure de comptage\"], utc=True)\n",
    "traffic_reel = traffic_reel[[\"Date et heure de comptage\", \"Débit horaire\"]].sort_values(by=[\"Date et heure de comptage\"], ascending=True)\n",
    "traffic_reel = traffic_reel.drop(traffic_reel.index[0])\n",
    "traffic_reel = traffic_reel.rename(columns={\"Débit horaire\": \"Real Debit\"})\n",
    "\n",
    "traffic_reel\n"
   ]
  },
  {
   "cell_type": "markdown",
   "metadata": {},
   "source": [
    "# Creating a Baseline Model"
   ]
  },
  {
   "cell_type": "code",
   "execution_count": 4,
   "metadata": {},
   "outputs": [
    {
     "data": {
      "text/html": [
       "<div>\n",
       "<style scoped>\n",
       "    .dataframe tbody tr th:only-of-type {\n",
       "        vertical-align: middle;\n",
       "    }\n",
       "\n",
       "    .dataframe tbody tr th {\n",
       "        vertical-align: top;\n",
       "    }\n",
       "\n",
       "    .dataframe thead th {\n",
       "        text-align: right;\n",
       "    }\n",
       "</style>\n",
       "<table border=\"1\" class=\"dataframe\">\n",
       "  <thead>\n",
       "    <tr style=\"text-align: right;\">\n",
       "      <th></th>\n",
       "      <th>Unnamed: 0</th>\n",
       "      <th>Date et heure de comptage</th>\n",
       "      <th>Identifiant arc</th>\n",
       "      <th>Libelle</th>\n",
       "      <th>Débit horaire</th>\n",
       "      <th>Taux d'occupation</th>\n",
       "      <th>Etat trafic</th>\n",
       "      <th>Identifiant noeud amont</th>\n",
       "      <th>Libelle noeud amont</th>\n",
       "      <th>Identifiant noeud aval</th>\n",
       "      <th>...</th>\n",
       "      <th>number_markets</th>\n",
       "      <th>ongoing_market</th>\n",
       "      <th>cos_week</th>\n",
       "      <th>sin_week</th>\n",
       "      <th>cos_weekday</th>\n",
       "      <th>sin_weekday</th>\n",
       "      <th>cos_year_day</th>\n",
       "      <th>sin_year_day</th>\n",
       "      <th>cos_timestamp_hour</th>\n",
       "      <th>sin_timestamp_hour</th>\n",
       "    </tr>\n",
       "  </thead>\n",
       "  <tbody>\n",
       "    <tr>\n",
       "      <th>0</th>\n",
       "      <td>0</td>\n",
       "      <td>2023-02-01 22:00:00+00:00</td>\n",
       "      <td>4264</td>\n",
       "      <td>AV_Champs_Elysees</td>\n",
       "      <td>764.0</td>\n",
       "      <td>11.28000</td>\n",
       "      <td>Fluide</td>\n",
       "      <td>2294</td>\n",
       "      <td>Av_Champs_Elysees-Washington</td>\n",
       "      <td>2293</td>\n",
       "      <td>...</td>\n",
       "      <td>2.0</td>\n",
       "      <td>0</td>\n",
       "      <td>0.822984</td>\n",
       "      <td>0.568065</td>\n",
       "      <td>-0.900969</td>\n",
       "      <td>-0.433884</td>\n",
       "      <td>0.852078</td>\n",
       "      <td>0.523416</td>\n",
       "      <td>0.866025</td>\n",
       "      <td>-0.500000</td>\n",
       "    </tr>\n",
       "    <tr>\n",
       "      <th>1</th>\n",
       "      <td>1</td>\n",
       "      <td>2023-02-01 21:00:00+00:00</td>\n",
       "      <td>4264</td>\n",
       "      <td>AV_Champs_Elysees</td>\n",
       "      <td>819.0</td>\n",
       "      <td>16.52056</td>\n",
       "      <td>Pré-saturé</td>\n",
       "      <td>2294</td>\n",
       "      <td>Av_Champs_Elysees-Washington</td>\n",
       "      <td>2293</td>\n",
       "      <td>...</td>\n",
       "      <td>2.0</td>\n",
       "      <td>0</td>\n",
       "      <td>0.822984</td>\n",
       "      <td>0.568065</td>\n",
       "      <td>-0.900969</td>\n",
       "      <td>-0.433884</td>\n",
       "      <td>0.852078</td>\n",
       "      <td>0.523416</td>\n",
       "      <td>0.707107</td>\n",
       "      <td>-0.707107</td>\n",
       "    </tr>\n",
       "    <tr>\n",
       "      <th>2</th>\n",
       "      <td>2</td>\n",
       "      <td>2023-02-01 19:00:00+00:00</td>\n",
       "      <td>4264</td>\n",
       "      <td>AV_Champs_Elysees</td>\n",
       "      <td>1082.0</td>\n",
       "      <td>19.98722</td>\n",
       "      <td>Pré-saturé</td>\n",
       "      <td>2294</td>\n",
       "      <td>Av_Champs_Elysees-Washington</td>\n",
       "      <td>2293</td>\n",
       "      <td>...</td>\n",
       "      <td>2.0</td>\n",
       "      <td>1</td>\n",
       "      <td>0.822984</td>\n",
       "      <td>0.568065</td>\n",
       "      <td>-0.900969</td>\n",
       "      <td>-0.433884</td>\n",
       "      <td>0.852078</td>\n",
       "      <td>0.523416</td>\n",
       "      <td>0.258819</td>\n",
       "      <td>-0.965926</td>\n",
       "    </tr>\n",
       "    <tr>\n",
       "      <th>3</th>\n",
       "      <td>3</td>\n",
       "      <td>2023-02-01 17:00:00+00:00</td>\n",
       "      <td>4264</td>\n",
       "      <td>AV_Champs_Elysees</td>\n",
       "      <td>1027.0</td>\n",
       "      <td>23.27334</td>\n",
       "      <td>Pré-saturé</td>\n",
       "      <td>2294</td>\n",
       "      <td>Av_Champs_Elysees-Washington</td>\n",
       "      <td>2293</td>\n",
       "      <td>...</td>\n",
       "      <td>2.0</td>\n",
       "      <td>1</td>\n",
       "      <td>0.822984</td>\n",
       "      <td>0.568065</td>\n",
       "      <td>-0.900969</td>\n",
       "      <td>-0.433884</td>\n",
       "      <td>0.852078</td>\n",
       "      <td>0.523416</td>\n",
       "      <td>-0.258819</td>\n",
       "      <td>-0.965926</td>\n",
       "    </tr>\n",
       "    <tr>\n",
       "      <th>4</th>\n",
       "      <td>4</td>\n",
       "      <td>2023-08-09 22:00:00+00:00</td>\n",
       "      <td>191</td>\n",
       "      <td>Sts_Peres</td>\n",
       "      <td>257.0</td>\n",
       "      <td>3.04445</td>\n",
       "      <td>Fluide</td>\n",
       "      <td>114</td>\n",
       "      <td>Sts_Peres-Voltaire</td>\n",
       "      <td>119</td>\n",
       "      <td>...</td>\n",
       "      <td>1.0</td>\n",
       "      <td>0</td>\n",
       "      <td>-0.748511</td>\n",
       "      <td>-0.663123</td>\n",
       "      <td>-0.900969</td>\n",
       "      <td>-0.433884</td>\n",
       "      <td>-0.788305</td>\n",
       "      <td>-0.615285</td>\n",
       "      <td>0.866025</td>\n",
       "      <td>-0.500000</td>\n",
       "    </tr>\n",
       "  </tbody>\n",
       "</table>\n",
       "<p>5 rows × 40 columns</p>\n",
       "</div>"
      ],
      "text/plain": [
       "   Unnamed: 0  Date et heure de comptage  Identifiant arc            Libelle  \\\n",
       "0           0  2023-02-01 22:00:00+00:00             4264  AV_Champs_Elysees   \n",
       "1           1  2023-02-01 21:00:00+00:00             4264  AV_Champs_Elysees   \n",
       "2           2  2023-02-01 19:00:00+00:00             4264  AV_Champs_Elysees   \n",
       "3           3  2023-02-01 17:00:00+00:00             4264  AV_Champs_Elysees   \n",
       "4           4  2023-08-09 22:00:00+00:00              191          Sts_Peres   \n",
       "\n",
       "   Débit horaire  Taux d'occupation Etat trafic  Identifiant noeud amont  \\\n",
       "0          764.0           11.28000      Fluide                     2294   \n",
       "1          819.0           16.52056  Pré-saturé                     2294   \n",
       "2         1082.0           19.98722  Pré-saturé                     2294   \n",
       "3         1027.0           23.27334  Pré-saturé                     2294   \n",
       "4          257.0            3.04445      Fluide                      114   \n",
       "\n",
       "            Libelle noeud amont  Identifiant noeud aval  ... number_markets  \\\n",
       "0  Av_Champs_Elysees-Washington                    2293  ...            2.0   \n",
       "1  Av_Champs_Elysees-Washington                    2293  ...            2.0   \n",
       "2  Av_Champs_Elysees-Washington                    2293  ...            2.0   \n",
       "3  Av_Champs_Elysees-Washington                    2293  ...            2.0   \n",
       "4            Sts_Peres-Voltaire                     119  ...            1.0   \n",
       "\n",
       "  ongoing_market  cos_week  sin_week  cos_weekday  sin_weekday  cos_year_day  \\\n",
       "0              0  0.822984  0.568065    -0.900969    -0.433884      0.852078   \n",
       "1              0  0.822984  0.568065    -0.900969    -0.433884      0.852078   \n",
       "2              1  0.822984  0.568065    -0.900969    -0.433884      0.852078   \n",
       "3              1  0.822984  0.568065    -0.900969    -0.433884      0.852078   \n",
       "4              0 -0.748511 -0.663123    -0.900969    -0.433884     -0.788305   \n",
       "\n",
       "   sin_year_day  cos_timestamp_hour  sin_timestamp_hour  \n",
       "0      0.523416            0.866025           -0.500000  \n",
       "1      0.523416            0.707107           -0.707107  \n",
       "2      0.523416            0.258819           -0.965926  \n",
       "3      0.523416           -0.258819           -0.965926  \n",
       "4     -0.615285            0.866025           -0.500000  \n",
       "\n",
       "[5 rows x 40 columns]"
      ]
     },
     "execution_count": 4,
     "metadata": {},
     "output_type": "execute_result"
    }
   ],
   "source": [
    "traffic_final_imp = pd.read_csv('traffic_final.csv', delimiter = ',') # do we want older or more recent data ?\n",
    "traffic_final_imp = traffic_final_imp.rename(columns={\"timestamp\":\"Date et heure de comptage\"})\n",
    "traffic_final_imp.head()"
   ]
  },
  {
   "cell_type": "code",
   "execution_count": 6,
   "metadata": {},
   "outputs": [
    {
     "data": {
      "text/html": [
       "<div>\n",
       "<style scoped>\n",
       "    .dataframe tbody tr th:only-of-type {\n",
       "        vertical-align: middle;\n",
       "    }\n",
       "\n",
       "    .dataframe tbody tr th {\n",
       "        vertical-align: top;\n",
       "    }\n",
       "\n",
       "    .dataframe thead th {\n",
       "        text-align: right;\n",
       "    }\n",
       "</style>\n",
       "<table border=\"1\" class=\"dataframe\">\n",
       "  <thead>\n",
       "    <tr style=\"text-align: right;\">\n",
       "      <th></th>\n",
       "      <th>Unnamed: 0</th>\n",
       "      <th>Date et heure de comptage</th>\n",
       "      <th>Identifiant arc</th>\n",
       "      <th>Libelle</th>\n",
       "      <th>Débit horaire</th>\n",
       "      <th>Taux d'occupation</th>\n",
       "      <th>Etat trafic</th>\n",
       "      <th>Identifiant noeud amont</th>\n",
       "      <th>Libelle noeud amont</th>\n",
       "      <th>Identifiant noeud aval</th>\n",
       "      <th>...</th>\n",
       "      <th>number_markets</th>\n",
       "      <th>ongoing_market</th>\n",
       "      <th>cos_week</th>\n",
       "      <th>sin_week</th>\n",
       "      <th>cos_weekday</th>\n",
       "      <th>sin_weekday</th>\n",
       "      <th>cos_year_day</th>\n",
       "      <th>sin_year_day</th>\n",
       "      <th>cos_timestamp_hour</th>\n",
       "      <th>sin_timestamp_hour</th>\n",
       "    </tr>\n",
       "  </thead>\n",
       "  <tbody>\n",
       "    <tr>\n",
       "      <th>7299</th>\n",
       "      <td>7299</td>\n",
       "      <td>2022-11-01 03:00:00+00:00</td>\n",
       "      <td>4264</td>\n",
       "      <td>AV_Champs_Elysees</td>\n",
       "      <td>672.0</td>\n",
       "      <td>8.89223</td>\n",
       "      <td>Fluide</td>\n",
       "      <td>2294</td>\n",
       "      <td>Av_Champs_Elysees-Washington</td>\n",
       "      <td>2293</td>\n",
       "      <td>...</td>\n",
       "      <td>1.0</td>\n",
       "      <td>0</td>\n",
       "      <td>0.568065</td>\n",
       "      <td>-0.822984</td>\n",
       "      <td>-0.900969</td>\n",
       "      <td>0.433884</td>\n",
       "      <td>0.512371</td>\n",
       "      <td>-0.858764</td>\n",
       "      <td>7.071068e-01</td>\n",
       "      <td>0.707107</td>\n",
       "    </tr>\n",
       "    <tr>\n",
       "      <th>7298</th>\n",
       "      <td>7298</td>\n",
       "      <td>2022-11-01 04:00:00+00:00</td>\n",
       "      <td>4264</td>\n",
       "      <td>AV_Champs_Elysees</td>\n",
       "      <td>513.0</td>\n",
       "      <td>7.12889</td>\n",
       "      <td>Fluide</td>\n",
       "      <td>2294</td>\n",
       "      <td>Av_Champs_Elysees-Washington</td>\n",
       "      <td>2293</td>\n",
       "      <td>...</td>\n",
       "      <td>1.0</td>\n",
       "      <td>0</td>\n",
       "      <td>0.568065</td>\n",
       "      <td>-0.822984</td>\n",
       "      <td>-0.900969</td>\n",
       "      <td>0.433884</td>\n",
       "      <td>0.512371</td>\n",
       "      <td>-0.858764</td>\n",
       "      <td>5.000000e-01</td>\n",
       "      <td>0.866025</td>\n",
       "    </tr>\n",
       "    <tr>\n",
       "      <th>7297</th>\n",
       "      <td>7297</td>\n",
       "      <td>2022-11-01 05:00:00+00:00</td>\n",
       "      <td>4264</td>\n",
       "      <td>AV_Champs_Elysees</td>\n",
       "      <td>494.0</td>\n",
       "      <td>6.22500</td>\n",
       "      <td>Fluide</td>\n",
       "      <td>2294</td>\n",
       "      <td>Av_Champs_Elysees-Washington</td>\n",
       "      <td>2293</td>\n",
       "      <td>...</td>\n",
       "      <td>1.0</td>\n",
       "      <td>0</td>\n",
       "      <td>0.568065</td>\n",
       "      <td>-0.822984</td>\n",
       "      <td>-0.900969</td>\n",
       "      <td>0.433884</td>\n",
       "      <td>0.512371</td>\n",
       "      <td>-0.858764</td>\n",
       "      <td>2.588190e-01</td>\n",
       "      <td>0.965926</td>\n",
       "    </tr>\n",
       "    <tr>\n",
       "      <th>8665</th>\n",
       "      <td>8665</td>\n",
       "      <td>2022-11-01 06:00:00+00:00</td>\n",
       "      <td>4264</td>\n",
       "      <td>AV_Champs_Elysees</td>\n",
       "      <td>513.0</td>\n",
       "      <td>5.80723</td>\n",
       "      <td>Fluide</td>\n",
       "      <td>2294</td>\n",
       "      <td>Av_Champs_Elysees-Washington</td>\n",
       "      <td>2293</td>\n",
       "      <td>...</td>\n",
       "      <td>1.0</td>\n",
       "      <td>1</td>\n",
       "      <td>0.568065</td>\n",
       "      <td>-0.822984</td>\n",
       "      <td>-0.900969</td>\n",
       "      <td>0.433884</td>\n",
       "      <td>0.512371</td>\n",
       "      <td>-0.858764</td>\n",
       "      <td>6.123234e-17</td>\n",
       "      <td>1.000000</td>\n",
       "    </tr>\n",
       "    <tr>\n",
       "      <th>7296</th>\n",
       "      <td>7296</td>\n",
       "      <td>2022-11-01 07:00:00+00:00</td>\n",
       "      <td>4264</td>\n",
       "      <td>AV_Champs_Elysees</td>\n",
       "      <td>484.0</td>\n",
       "      <td>5.57111</td>\n",
       "      <td>Fluide</td>\n",
       "      <td>2294</td>\n",
       "      <td>Av_Champs_Elysees-Washington</td>\n",
       "      <td>2293</td>\n",
       "      <td>...</td>\n",
       "      <td>1.0</td>\n",
       "      <td>1</td>\n",
       "      <td>0.568065</td>\n",
       "      <td>-0.822984</td>\n",
       "      <td>-0.900969</td>\n",
       "      <td>0.433884</td>\n",
       "      <td>0.512371</td>\n",
       "      <td>-0.858764</td>\n",
       "      <td>-2.588190e-01</td>\n",
       "      <td>0.965926</td>\n",
       "    </tr>\n",
       "  </tbody>\n",
       "</table>\n",
       "<p>5 rows × 40 columns</p>\n",
       "</div>"
      ],
      "text/plain": [
       "      Unnamed: 0  Date et heure de comptage  Identifiant arc  \\\n",
       "7299        7299  2022-11-01 03:00:00+00:00             4264   \n",
       "7298        7298  2022-11-01 04:00:00+00:00             4264   \n",
       "7297        7297  2022-11-01 05:00:00+00:00             4264   \n",
       "8665        8665  2022-11-01 06:00:00+00:00             4264   \n",
       "7296        7296  2022-11-01 07:00:00+00:00             4264   \n",
       "\n",
       "                Libelle  Débit horaire  Taux d'occupation Etat trafic  \\\n",
       "7299  AV_Champs_Elysees          672.0            8.89223      Fluide   \n",
       "7298  AV_Champs_Elysees          513.0            7.12889      Fluide   \n",
       "7297  AV_Champs_Elysees          494.0            6.22500      Fluide   \n",
       "8665  AV_Champs_Elysees          513.0            5.80723      Fluide   \n",
       "7296  AV_Champs_Elysees          484.0            5.57111      Fluide   \n",
       "\n",
       "      Identifiant noeud amont           Libelle noeud amont  \\\n",
       "7299                     2294  Av_Champs_Elysees-Washington   \n",
       "7298                     2294  Av_Champs_Elysees-Washington   \n",
       "7297                     2294  Av_Champs_Elysees-Washington   \n",
       "8665                     2294  Av_Champs_Elysees-Washington   \n",
       "7296                     2294  Av_Champs_Elysees-Washington   \n",
       "\n",
       "      Identifiant noeud aval  ... number_markets ongoing_market  cos_week  \\\n",
       "7299                    2293  ...            1.0              0  0.568065   \n",
       "7298                    2293  ...            1.0              0  0.568065   \n",
       "7297                    2293  ...            1.0              0  0.568065   \n",
       "8665                    2293  ...            1.0              1  0.568065   \n",
       "7296                    2293  ...            1.0              1  0.568065   \n",
       "\n",
       "      sin_week  cos_weekday  sin_weekday  cos_year_day  sin_year_day  \\\n",
       "7299 -0.822984    -0.900969     0.433884      0.512371     -0.858764   \n",
       "7298 -0.822984    -0.900969     0.433884      0.512371     -0.858764   \n",
       "7297 -0.822984    -0.900969     0.433884      0.512371     -0.858764   \n",
       "8665 -0.822984    -0.900969     0.433884      0.512371     -0.858764   \n",
       "7296 -0.822984    -0.900969     0.433884      0.512371     -0.858764   \n",
       "\n",
       "      cos_timestamp_hour  sin_timestamp_hour  \n",
       "7299        7.071068e-01            0.707107  \n",
       "7298        5.000000e-01            0.866025  \n",
       "7297        2.588190e-01            0.965926  \n",
       "8665        6.123234e-17            1.000000  \n",
       "7296       -2.588190e-01            0.965926  \n",
       "\n",
       "[5 rows x 40 columns]"
      ]
     },
     "execution_count": 6,
     "metadata": {},
     "output_type": "execute_result"
    }
   ],
   "source": [
    "champs = traffic_final_imp[traffic_final_imp['Libelle'] == \"AV_Champs_Elysees\"].sort_values(by=[\"Date et heure de comptage\"], ascending=True)\n",
    "champs.head()"
   ]
  },
  {
   "cell_type": "code",
   "execution_count": 7,
   "metadata": {},
   "outputs": [],
   "source": [
    "class BaselineAverage:\n",
    "    def __init__(self):\n",
    "        self.average_value = None\n",
    "\n",
    "    def fit(self, time_series):\n",
    "        # Calculate the average value of the time series\n",
    "        self.average_value = time_series.mean()\n",
    "\n",
    "    def predict(self, forecast_dates):\n",
    "        # Check if the model has been fitted\n",
    "        if self.average_value is None:\n",
    "            raise ValueError(\"Model has not been fitted. Call fit() first.\")\n",
    "\n",
    "        # Create a DataFrame with forecast dates and corresponding average value predictions\n",
    "        forecast_df = pd.DataFrame({\n",
    "            'Date et heure de comptage': forecast_dates,\n",
    "            'Débit horaire': [self.average_value] * len(forecast_dates)\n",
    "        })\n",
    "        forecast_df[\"Date et heure de comptage\"] = pd.to_datetime(forecast_df[\"Date et heure de comptage\"], utc=True)\n",
    "\n",
    "        return forecast_df"
   ]
  },
  {
   "cell_type": "code",
   "execution_count": 8,
   "metadata": {},
   "outputs": [],
   "source": [
    "baseline_model = BaselineAverage()\n",
    "baseline_model.fit(champs['Débit horaire'])"
   ]
  },
  {
   "cell_type": "code",
   "execution_count": 9,
   "metadata": {},
   "outputs": [
    {
     "data": {
      "text/html": [
       "<div>\n",
       "<style scoped>\n",
       "    .dataframe tbody tr th:only-of-type {\n",
       "        vertical-align: middle;\n",
       "    }\n",
       "\n",
       "    .dataframe tbody tr th {\n",
       "        vertical-align: top;\n",
       "    }\n",
       "\n",
       "    .dataframe thead th {\n",
       "        text-align: right;\n",
       "    }\n",
       "</style>\n",
       "<table border=\"1\" class=\"dataframe\">\n",
       "  <thead>\n",
       "    <tr style=\"text-align: right;\">\n",
       "      <th></th>\n",
       "      <th>Date et heure de comptage</th>\n",
       "      <th>Débit horaire</th>\n",
       "    </tr>\n",
       "  </thead>\n",
       "  <tbody>\n",
       "    <tr>\n",
       "      <th>0</th>\n",
       "      <td>2023-12-01 00:00:00+00:00</td>\n",
       "      <td>884.490328</td>\n",
       "    </tr>\n",
       "    <tr>\n",
       "      <th>1</th>\n",
       "      <td>2023-12-01 01:00:00+00:00</td>\n",
       "      <td>884.490328</td>\n",
       "    </tr>\n",
       "    <tr>\n",
       "      <th>2</th>\n",
       "      <td>2023-12-01 02:00:00+00:00</td>\n",
       "      <td>884.490328</td>\n",
       "    </tr>\n",
       "    <tr>\n",
       "      <th>3</th>\n",
       "      <td>2023-12-01 03:00:00+00:00</td>\n",
       "      <td>884.490328</td>\n",
       "    </tr>\n",
       "    <tr>\n",
       "      <th>4</th>\n",
       "      <td>2023-12-01 04:00:00+00:00</td>\n",
       "      <td>884.490328</td>\n",
       "    </tr>\n",
       "    <tr>\n",
       "      <th>...</th>\n",
       "      <td>...</td>\n",
       "      <td>...</td>\n",
       "    </tr>\n",
       "    <tr>\n",
       "      <th>68</th>\n",
       "      <td>2023-12-03 20:00:00+00:00</td>\n",
       "      <td>884.490328</td>\n",
       "    </tr>\n",
       "    <tr>\n",
       "      <th>69</th>\n",
       "      <td>2023-12-03 21:00:00+00:00</td>\n",
       "      <td>884.490328</td>\n",
       "    </tr>\n",
       "    <tr>\n",
       "      <th>70</th>\n",
       "      <td>2023-12-03 22:00:00+00:00</td>\n",
       "      <td>884.490328</td>\n",
       "    </tr>\n",
       "    <tr>\n",
       "      <th>71</th>\n",
       "      <td>2023-12-03 23:00:00+00:00</td>\n",
       "      <td>884.490328</td>\n",
       "    </tr>\n",
       "    <tr>\n",
       "      <th>72</th>\n",
       "      <td>2023-12-04 00:00:00+00:00</td>\n",
       "      <td>884.490328</td>\n",
       "    </tr>\n",
       "  </tbody>\n",
       "</table>\n",
       "<p>73 rows × 2 columns</p>\n",
       "</div>"
      ],
      "text/plain": [
       "   Date et heure de comptage  Débit horaire\n",
       "0  2023-12-01 00:00:00+00:00     884.490328\n",
       "1  2023-12-01 01:00:00+00:00     884.490328\n",
       "2  2023-12-01 02:00:00+00:00     884.490328\n",
       "3  2023-12-01 03:00:00+00:00     884.490328\n",
       "4  2023-12-01 04:00:00+00:00     884.490328\n",
       "..                       ...            ...\n",
       "68 2023-12-03 20:00:00+00:00     884.490328\n",
       "69 2023-12-03 21:00:00+00:00     884.490328\n",
       "70 2023-12-03 22:00:00+00:00     884.490328\n",
       "71 2023-12-03 23:00:00+00:00     884.490328\n",
       "72 2023-12-04 00:00:00+00:00     884.490328\n",
       "\n",
       "[73 rows x 2 columns]"
      ]
     },
     "execution_count": 9,
     "metadata": {},
     "output_type": "execute_result"
    }
   ],
   "source": [
    "date_range = pd.date_range(start='2023-12-01', end='2023-12-04', freq='H')\n",
    "\n",
    "formatted_dates = date_range.strftime('%Y-%m-%dT%H:%M:%S%z')\n",
    "\n",
    "predictions = baseline_model.predict(formatted_dates)\n",
    "\n",
    "predictions"
   ]
  },
  {
   "cell_type": "code",
   "execution_count": 23,
   "metadata": {},
   "outputs": [
    {
     "name": "stdout",
     "output_type": "stream",
     "text": [
      "452.7154091167117\n"
     ]
    }
   ],
   "source": [
    "predictions_without = predictions.drop(predictions.index[-2:])\n",
    "\n",
    "merged_df = pd.merge(traffic_reel, predictions_without, on='Date et heure de comptage')\n",
    "\n",
    "# Calculate the Mean Squared Error\n",
    "mse = mean_squared_error(merged_df['Débit horaire'], merged_df['Real Debit'])\n",
    "rmse = math.sqrt(mse)\n",
    "print(rmse)"
   ]
  },
  {
   "cell_type": "code",
   "execution_count": 10,
   "metadata": {},
   "outputs": [
    {
     "data": {
      "text/html": [
       "<div>\n",
       "<style scoped>\n",
       "    .dataframe tbody tr th:only-of-type {\n",
       "        vertical-align: middle;\n",
       "    }\n",
       "\n",
       "    .dataframe tbody tr th {\n",
       "        vertical-align: top;\n",
       "    }\n",
       "\n",
       "    .dataframe thead th {\n",
       "        text-align: right;\n",
       "    }\n",
       "</style>\n",
       "<table border=\"1\" class=\"dataframe\">\n",
       "  <thead>\n",
       "    <tr style=\"text-align: right;\">\n",
       "      <th></th>\n",
       "      <th>Débit horaire</th>\n",
       "      <th>Date et heure de comptage</th>\n",
       "    </tr>\n",
       "  </thead>\n",
       "  <tbody>\n",
       "    <tr>\n",
       "      <th>0</th>\n",
       "      <td>672.0</td>\n",
       "      <td>2022-11-01 03:00:00+00:00</td>\n",
       "    </tr>\n",
       "    <tr>\n",
       "      <th>1</th>\n",
       "      <td>513.0</td>\n",
       "      <td>2022-11-01 04:00:00+00:00</td>\n",
       "    </tr>\n",
       "    <tr>\n",
       "      <th>2</th>\n",
       "      <td>494.0</td>\n",
       "      <td>2022-11-01 05:00:00+00:00</td>\n",
       "    </tr>\n",
       "    <tr>\n",
       "      <th>3</th>\n",
       "      <td>513.0</td>\n",
       "      <td>2022-11-01 06:00:00+00:00</td>\n",
       "    </tr>\n",
       "    <tr>\n",
       "      <th>4</th>\n",
       "      <td>484.0</td>\n",
       "      <td>2022-11-01 07:00:00+00:00</td>\n",
       "    </tr>\n",
       "    <tr>\n",
       "      <th>...</th>\n",
       "      <td>...</td>\n",
       "      <td>...</td>\n",
       "    </tr>\n",
       "    <tr>\n",
       "      <th>9380</th>\n",
       "      <td>1464.0</td>\n",
       "      <td>2023-12-03 18:00:00+00:00</td>\n",
       "    </tr>\n",
       "    <tr>\n",
       "      <th>9381</th>\n",
       "      <td>1385.0</td>\n",
       "      <td>2023-12-03 19:00:00+00:00</td>\n",
       "    </tr>\n",
       "    <tr>\n",
       "      <th>9382</th>\n",
       "      <td>1200.0</td>\n",
       "      <td>2023-12-03 20:00:00+00:00</td>\n",
       "    </tr>\n",
       "    <tr>\n",
       "      <th>9383</th>\n",
       "      <td>1266.0</td>\n",
       "      <td>2023-12-03 21:00:00+00:00</td>\n",
       "    </tr>\n",
       "    <tr>\n",
       "      <th>9384</th>\n",
       "      <td>1044.0</td>\n",
       "      <td>2023-12-03 22:00:00+00:00</td>\n",
       "    </tr>\n",
       "  </tbody>\n",
       "</table>\n",
       "<p>9385 rows × 2 columns</p>\n",
       "</div>"
      ],
      "text/plain": [
       "      Débit horaire Date et heure de comptage\n",
       "0             672.0 2022-11-01 03:00:00+00:00\n",
       "1             513.0 2022-11-01 04:00:00+00:00\n",
       "2             494.0 2022-11-01 05:00:00+00:00\n",
       "3             513.0 2022-11-01 06:00:00+00:00\n",
       "4             484.0 2022-11-01 07:00:00+00:00\n",
       "...             ...                       ...\n",
       "9380         1464.0 2023-12-03 18:00:00+00:00\n",
       "9381         1385.0 2023-12-03 19:00:00+00:00\n",
       "9382         1200.0 2023-12-03 20:00:00+00:00\n",
       "9383         1266.0 2023-12-03 21:00:00+00:00\n",
       "9384         1044.0 2023-12-03 22:00:00+00:00\n",
       "\n",
       "[9385 rows x 2 columns]"
      ]
     },
     "execution_count": 10,
     "metadata": {},
     "output_type": "execute_result"
    }
   ],
   "source": [
    "traffic_reel_formatted = traffic_reel.rename(columns={\"Real Debit\":\"Débit horaire\"})\n",
    "reel_values = pd.concat([champs[['Débit horaire', 'Date et heure de comptage']], traffic_reel_formatted], ignore_index=True)\n",
    "reel_values[\"Date et heure de comptage\"] = pd.to_datetime(reel_values[\"Date et heure de comptage\"], utc=True)\n",
    "\n",
    "reel_values\n"
   ]
  },
  {
   "cell_type": "code",
   "execution_count": 25,
   "metadata": {},
   "outputs": [
    {
     "data": {
      "image/png": "[encoded data removed]",
      "text/plain": [
       "<Figure size 432x288 with 1 Axes>"
      ]
     },
     "metadata": {
      "needs_background": "light"
     },
     "output_type": "display_data"
    }
   ],
   "source": [
    "start_date = '2023-11-25'\n",
    "end_date = '2023-12-04'\n",
    "df_filtered = reel_values[(reel_values['Date et heure de comptage'] >= start_date) & (reel_values['Date et heure de comptage'] <= end_date)]\n",
    "\n",
    "\n",
    "ax = df_filtered.plot(x='Date et heure de comptage', y='Débit horaire', kind='line', label='Actual Values', linestyle='-')\n",
    "\n",
    "predictions_without.plot(x='Date et heure de comptage', y='Débit horaire', kind='line', label='Predicted Values', linestyle='-', color='red', ax=ax)\n",
    "\n",
    "plt.xlabel('Date')\n",
    "plt.ylabel('Value')\n",
    "plt.title('Values from November 1st to December 3rd')\n",
    "plt.show()"
   ]
  },
  {
   "cell_type": "markdown",
   "metadata": {},
   "source": [
    "# Testing an XG Boost Model"
   ]
  },
  {
   "cell_type": "code",
   "execution_count": 26,
   "metadata": {},
   "outputs": [
    {
     "data": {
      "text/html": [
       "<div>\n",
       "<style scoped>\n",
       "    .dataframe tbody tr th:only-of-type {\n",
       "        vertical-align: middle;\n",
       "    }\n",
       "\n",
       "    .dataframe tbody tr th {\n",
       "        vertical-align: top;\n",
       "    }\n",
       "\n",
       "    .dataframe thead th {\n",
       "        text-align: right;\n",
       "    }\n",
       "</style>\n",
       "<table border=\"1\" class=\"dataframe\">\n",
       "  <thead>\n",
       "    <tr style=\"text-align: right;\">\n",
       "      <th></th>\n",
       "      <th>Unnamed: 0</th>\n",
       "      <th>Date et heure de comptage</th>\n",
       "      <th>Identifiant arc</th>\n",
       "      <th>Libelle</th>\n",
       "      <th>Débit horaire</th>\n",
       "      <th>Taux d'occupation</th>\n",
       "      <th>Etat trafic</th>\n",
       "      <th>Identifiant noeud amont</th>\n",
       "      <th>Libelle noeud amont</th>\n",
       "      <th>Identifiant noeud aval</th>\n",
       "      <th>...</th>\n",
       "      <th>number_markets</th>\n",
       "      <th>ongoing_market</th>\n",
       "      <th>cos_week</th>\n",
       "      <th>sin_week</th>\n",
       "      <th>cos_weekday</th>\n",
       "      <th>sin_weekday</th>\n",
       "      <th>cos_year_day</th>\n",
       "      <th>sin_year_day</th>\n",
       "      <th>cos_timestamp_hour</th>\n",
       "      <th>sin_timestamp_hour</th>\n",
       "    </tr>\n",
       "  </thead>\n",
       "  <tbody>\n",
       "    <tr>\n",
       "      <th>7299</th>\n",
       "      <td>7299</td>\n",
       "      <td>2022-11-01 03:00:00+00:00</td>\n",
       "      <td>4264</td>\n",
       "      <td>AV_Champs_Elysees</td>\n",
       "      <td>672.0</td>\n",
       "      <td>8.89223</td>\n",
       "      <td>Fluide</td>\n",
       "      <td>2294</td>\n",
       "      <td>Av_Champs_Elysees-Washington</td>\n",
       "      <td>2293</td>\n",
       "      <td>...</td>\n",
       "      <td>1.0</td>\n",
       "      <td>0</td>\n",
       "      <td>0.568065</td>\n",
       "      <td>-0.822984</td>\n",
       "      <td>-0.900969</td>\n",
       "      <td>0.433884</td>\n",
       "      <td>0.512371</td>\n",
       "      <td>-0.858764</td>\n",
       "      <td>7.071068e-01</td>\n",
       "      <td>0.707107</td>\n",
       "    </tr>\n",
       "    <tr>\n",
       "      <th>7298</th>\n",
       "      <td>7298</td>\n",
       "      <td>2022-11-01 04:00:00+00:00</td>\n",
       "      <td>4264</td>\n",
       "      <td>AV_Champs_Elysees</td>\n",
       "      <td>513.0</td>\n",
       "      <td>7.12889</td>\n",
       "      <td>Fluide</td>\n",
       "      <td>2294</td>\n",
       "      <td>Av_Champs_Elysees-Washington</td>\n",
       "      <td>2293</td>\n",
       "      <td>...</td>\n",
       "      <td>1.0</td>\n",
       "      <td>0</td>\n",
       "      <td>0.568065</td>\n",
       "      <td>-0.822984</td>\n",
       "      <td>-0.900969</td>\n",
       "      <td>0.433884</td>\n",
       "      <td>0.512371</td>\n",
       "      <td>-0.858764</td>\n",
       "      <td>5.000000e-01</td>\n",
       "      <td>0.866025</td>\n",
       "    </tr>\n",
       "    <tr>\n",
       "      <th>7297</th>\n",
       "      <td>7297</td>\n",
       "      <td>2022-11-01 05:00:00+00:00</td>\n",
       "      <td>4264</td>\n",
       "      <td>AV_Champs_Elysees</td>\n",
       "      <td>494.0</td>\n",
       "      <td>6.22500</td>\n",
       "      <td>Fluide</td>\n",
       "      <td>2294</td>\n",
       "      <td>Av_Champs_Elysees-Washington</td>\n",
       "      <td>2293</td>\n",
       "      <td>...</td>\n",
       "      <td>1.0</td>\n",
       "      <td>0</td>\n",
       "      <td>0.568065</td>\n",
       "      <td>-0.822984</td>\n",
       "      <td>-0.900969</td>\n",
       "      <td>0.433884</td>\n",
       "      <td>0.512371</td>\n",
       "      <td>-0.858764</td>\n",
       "      <td>2.588190e-01</td>\n",
       "      <td>0.965926</td>\n",
       "    </tr>\n",
       "    <tr>\n",
       "      <th>8665</th>\n",
       "      <td>8665</td>\n",
       "      <td>2022-11-01 06:00:00+00:00</td>\n",
       "      <td>4264</td>\n",
       "      <td>AV_Champs_Elysees</td>\n",
       "      <td>513.0</td>\n",
       "      <td>5.80723</td>\n",
       "      <td>Fluide</td>\n",
       "      <td>2294</td>\n",
       "      <td>Av_Champs_Elysees-Washington</td>\n",
       "      <td>2293</td>\n",
       "      <td>...</td>\n",
       "      <td>1.0</td>\n",
       "      <td>1</td>\n",
       "      <td>0.568065</td>\n",
       "      <td>-0.822984</td>\n",
       "      <td>-0.900969</td>\n",
       "      <td>0.433884</td>\n",
       "      <td>0.512371</td>\n",
       "      <td>-0.858764</td>\n",
       "      <td>6.123234e-17</td>\n",
       "      <td>1.000000</td>\n",
       "    </tr>\n",
       "    <tr>\n",
       "      <th>7296</th>\n",
       "      <td>7296</td>\n",
       "      <td>2022-11-01 07:00:00+00:00</td>\n",
       "      <td>4264</td>\n",
       "      <td>AV_Champs_Elysees</td>\n",
       "      <td>484.0</td>\n",
       "      <td>5.57111</td>\n",
       "      <td>Fluide</td>\n",
       "      <td>2294</td>\n",
       "      <td>Av_Champs_Elysees-Washington</td>\n",
       "      <td>2293</td>\n",
       "      <td>...</td>\n",
       "      <td>1.0</td>\n",
       "      <td>1</td>\n",
       "      <td>0.568065</td>\n",
       "      <td>-0.822984</td>\n",
       "      <td>-0.900969</td>\n",
       "      <td>0.433884</td>\n",
       "      <td>0.512371</td>\n",
       "      <td>-0.858764</td>\n",
       "      <td>-2.588190e-01</td>\n",
       "      <td>0.965926</td>\n",
       "    </tr>\n",
       "  </tbody>\n",
       "</table>\n",
       "<p>5 rows × 40 columns</p>\n",
       "</div>"
      ],
      "text/plain": [
       "      Unnamed: 0  Date et heure de comptage  Identifiant arc  \\\n",
       "7299        7299  2022-11-01 03:00:00+00:00             4264   \n",
       "7298        7298  2022-11-01 04:00:00+00:00             4264   \n",
       "7297        7297  2022-11-01 05:00:00+00:00             4264   \n",
       "8665        8665  2022-11-01 06:00:00+00:00             4264   \n",
       "7296        7296  2022-11-01 07:00:00+00:00             4264   \n",
       "\n",
       "                Libelle  Débit horaire  Taux d'occupation Etat trafic  \\\n",
       "7299  AV_Champs_Elysees          672.0            8.89223      Fluide   \n",
       "7298  AV_Champs_Elysees          513.0            7.12889      Fluide   \n",
       "7297  AV_Champs_Elysees          494.0            6.22500      Fluide   \n",
       "8665  AV_Champs_Elysees          513.0            5.80723      Fluide   \n",
       "7296  AV_Champs_Elysees          484.0            5.57111      Fluide   \n",
       "\n",
       "      Identifiant noeud amont           Libelle noeud amont  \\\n",
       "7299                     2294  Av_Champs_Elysees-Washington   \n",
       "7298                     2294  Av_Champs_Elysees-Washington   \n",
       "7297                     2294  Av_Champs_Elysees-Washington   \n",
       "8665                     2294  Av_Champs_Elysees-Washington   \n",
       "7296                     2294  Av_Champs_Elysees-Washington   \n",
       "\n",
       "      Identifiant noeud aval  ... number_markets ongoing_market  cos_week  \\\n",
       "7299                    2293  ...            1.0              0  0.568065   \n",
       "7298                    2293  ...            1.0              0  0.568065   \n",
       "7297                    2293  ...            1.0              0  0.568065   \n",
       "8665                    2293  ...            1.0              1  0.568065   \n",
       "7296                    2293  ...            1.0              1  0.568065   \n",
       "\n",
       "      sin_week  cos_weekday  sin_weekday  cos_year_day  sin_year_day  \\\n",
       "7299 -0.822984    -0.900969     0.433884      0.512371     -0.858764   \n",
       "7298 -0.822984    -0.900969     0.433884      0.512371     -0.858764   \n",
       "7297 -0.822984    -0.900969     0.433884      0.512371     -0.858764   \n",
       "8665 -0.822984    -0.900969     0.433884      0.512371     -0.858764   \n",
       "7296 -0.822984    -0.900969     0.433884      0.512371     -0.858764   \n",
       "\n",
       "      cos_timestamp_hour  sin_timestamp_hour  \n",
       "7299        7.071068e-01            0.707107  \n",
       "7298        5.000000e-01            0.866025  \n",
       "7297        2.588190e-01            0.965926  \n",
       "8665        6.123234e-17            1.000000  \n",
       "7296       -2.588190e-01            0.965926  \n",
       "\n",
       "[5 rows x 40 columns]"
      ]
     },
     "execution_count": 26,
     "metadata": {},
     "output_type": "execute_result"
    }
   ],
   "source": [
    "champs.head()"
   ]
  },
  {
   "cell_type": "code",
   "execution_count": 11,
   "metadata": {},
   "outputs": [
    {
     "data": {
      "text/html": [
       "<div>\n",
       "<style scoped>\n",
       "    .dataframe tbody tr th:only-of-type {\n",
       "        vertical-align: middle;\n",
       "    }\n",
       "\n",
       "    .dataframe tbody tr th {\n",
       "        vertical-align: top;\n",
       "    }\n",
       "\n",
       "    .dataframe thead th {\n",
       "        text-align: right;\n",
       "    }\n",
       "</style>\n",
       "<table border=\"1\" class=\"dataframe\">\n",
       "  <thead>\n",
       "    <tr style=\"text-align: right;\">\n",
       "      <th></th>\n",
       "      <th>Unnamed: 0</th>\n",
       "      <th>Date et heure de comptage</th>\n",
       "      <th>Identifiant arc</th>\n",
       "      <th>Libelle</th>\n",
       "      <th>Débit horaire</th>\n",
       "      <th>Taux d'occupation</th>\n",
       "      <th>Etat trafic</th>\n",
       "      <th>Identifiant noeud amont</th>\n",
       "      <th>Libelle noeud amont</th>\n",
       "      <th>Identifiant noeud aval</th>\n",
       "      <th>...</th>\n",
       "      <th>Débit Horaire lag 15</th>\n",
       "      <th>Débit Horaire lag 16</th>\n",
       "      <th>Débit Horaire lag 17</th>\n",
       "      <th>Débit Horaire lag 18</th>\n",
       "      <th>Débit Horaire lag 19</th>\n",
       "      <th>Débit Horaire lag 20</th>\n",
       "      <th>Débit Horaire lag 21</th>\n",
       "      <th>Débit Horaire lag 22</th>\n",
       "      <th>Débit Horaire lag 23</th>\n",
       "      <th>Débit Horaire lag 24</th>\n",
       "    </tr>\n",
       "  </thead>\n",
       "  <tbody>\n",
       "    <tr>\n",
       "      <th>2138</th>\n",
       "      <td>2138</td>\n",
       "      <td>2022-11-02 03:00:00+00:00</td>\n",
       "      <td>4264</td>\n",
       "      <td>AV_Champs_Elysees</td>\n",
       "      <td>212.0</td>\n",
       "      <td>2.70555</td>\n",
       "      <td>Fluide</td>\n",
       "      <td>2294</td>\n",
       "      <td>Av_Champs_Elysees-Washington</td>\n",
       "      <td>2293</td>\n",
       "      <td>...</td>\n",
       "      <td>1149.0</td>\n",
       "      <td>1123.0</td>\n",
       "      <td>1018.0</td>\n",
       "      <td>933.0</td>\n",
       "      <td>833.0</td>\n",
       "      <td>780.0</td>\n",
       "      <td>705.0</td>\n",
       "      <td>667.0</td>\n",
       "      <td>465.0</td>\n",
       "      <td>268.0</td>\n",
       "    </tr>\n",
       "    <tr>\n",
       "      <th>6566</th>\n",
       "      <td>6566</td>\n",
       "      <td>2022-11-02 04:00:00+00:00</td>\n",
       "      <td>4264</td>\n",
       "      <td>AV_Champs_Elysees</td>\n",
       "      <td>156.0</td>\n",
       "      <td>2.40056</td>\n",
       "      <td>Fluide</td>\n",
       "      <td>2294</td>\n",
       "      <td>Av_Champs_Elysees-Washington</td>\n",
       "      <td>2293</td>\n",
       "      <td>...</td>\n",
       "      <td>1123.0</td>\n",
       "      <td>1018.0</td>\n",
       "      <td>933.0</td>\n",
       "      <td>833.0</td>\n",
       "      <td>780.0</td>\n",
       "      <td>705.0</td>\n",
       "      <td>667.0</td>\n",
       "      <td>465.0</td>\n",
       "      <td>268.0</td>\n",
       "      <td>212.0</td>\n",
       "    </tr>\n",
       "    <tr>\n",
       "      <th>2137</th>\n",
       "      <td>2137</td>\n",
       "      <td>2022-11-02 05:00:00+00:00</td>\n",
       "      <td>4264</td>\n",
       "      <td>AV_Champs_Elysees</td>\n",
       "      <td>283.0</td>\n",
       "      <td>3.24278</td>\n",
       "      <td>Fluide</td>\n",
       "      <td>2294</td>\n",
       "      <td>Av_Champs_Elysees-Washington</td>\n",
       "      <td>2293</td>\n",
       "      <td>...</td>\n",
       "      <td>1018.0</td>\n",
       "      <td>933.0</td>\n",
       "      <td>833.0</td>\n",
       "      <td>780.0</td>\n",
       "      <td>705.0</td>\n",
       "      <td>667.0</td>\n",
       "      <td>465.0</td>\n",
       "      <td>268.0</td>\n",
       "      <td>212.0</td>\n",
       "      <td>156.0</td>\n",
       "    </tr>\n",
       "    <tr>\n",
       "      <th>2136</th>\n",
       "      <td>2136</td>\n",
       "      <td>2022-11-02 06:00:00+00:00</td>\n",
       "      <td>4264</td>\n",
       "      <td>AV_Champs_Elysees</td>\n",
       "      <td>602.0</td>\n",
       "      <td>6.90889</td>\n",
       "      <td>Fluide</td>\n",
       "      <td>2294</td>\n",
       "      <td>Av_Champs_Elysees-Washington</td>\n",
       "      <td>2293</td>\n",
       "      <td>...</td>\n",
       "      <td>933.0</td>\n",
       "      <td>833.0</td>\n",
       "      <td>780.0</td>\n",
       "      <td>705.0</td>\n",
       "      <td>667.0</td>\n",
       "      <td>465.0</td>\n",
       "      <td>268.0</td>\n",
       "      <td>212.0</td>\n",
       "      <td>156.0</td>\n",
       "      <td>283.0</td>\n",
       "    </tr>\n",
       "    <tr>\n",
       "      <th>6565</th>\n",
       "      <td>6565</td>\n",
       "      <td>2022-11-02 07:00:00+00:00</td>\n",
       "      <td>4264</td>\n",
       "      <td>AV_Champs_Elysees</td>\n",
       "      <td>887.0</td>\n",
       "      <td>16.74389</td>\n",
       "      <td>Pré-saturé</td>\n",
       "      <td>2294</td>\n",
       "      <td>Av_Champs_Elysees-Washington</td>\n",
       "      <td>2293</td>\n",
       "      <td>...</td>\n",
       "      <td>833.0</td>\n",
       "      <td>780.0</td>\n",
       "      <td>705.0</td>\n",
       "      <td>667.0</td>\n",
       "      <td>465.0</td>\n",
       "      <td>268.0</td>\n",
       "      <td>212.0</td>\n",
       "      <td>156.0</td>\n",
       "      <td>283.0</td>\n",
       "      <td>602.0</td>\n",
       "    </tr>\n",
       "    <tr>\n",
       "      <th>...</th>\n",
       "      <td>...</td>\n",
       "      <td>...</td>\n",
       "      <td>...</td>\n",
       "      <td>...</td>\n",
       "      <td>...</td>\n",
       "      <td>...</td>\n",
       "      <td>...</td>\n",
       "      <td>...</td>\n",
       "      <td>...</td>\n",
       "      <td>...</td>\n",
       "      <td>...</td>\n",
       "      <td>...</td>\n",
       "      <td>...</td>\n",
       "      <td>...</td>\n",
       "      <td>...</td>\n",
       "      <td>...</td>\n",
       "      <td>...</td>\n",
       "      <td>...</td>\n",
       "      <td>...</td>\n",
       "      <td>...</td>\n",
       "      <td>...</td>\n",
       "    </tr>\n",
       "    <tr>\n",
       "      <th>26848</th>\n",
       "      <td>26848</td>\n",
       "      <td>2023-11-30 19:00:00+00:00</td>\n",
       "      <td>4264</td>\n",
       "      <td>AV_Champs_Elysees</td>\n",
       "      <td>1433.0</td>\n",
       "      <td>30.87000</td>\n",
       "      <td>Saturé</td>\n",
       "      <td>2294</td>\n",
       "      <td>Av_Champs_Elysees-Washington</td>\n",
       "      <td>2293</td>\n",
       "      <td>...</td>\n",
       "      <td>1740.0</td>\n",
       "      <td>1647.0</td>\n",
       "      <td>1688.0</td>\n",
       "      <td>1627.0</td>\n",
       "      <td>1561.0</td>\n",
       "      <td>1465.0</td>\n",
       "      <td>1251.0</td>\n",
       "      <td>1674.0</td>\n",
       "      <td>1514.0</td>\n",
       "      <td>1457.0</td>\n",
       "    </tr>\n",
       "    <tr>\n",
       "      <th>22548</th>\n",
       "      <td>22548</td>\n",
       "      <td>2023-11-30 20:00:00+00:00</td>\n",
       "      <td>4264</td>\n",
       "      <td>AV_Champs_Elysees</td>\n",
       "      <td>1253.0</td>\n",
       "      <td>24.38111</td>\n",
       "      <td>Pré-saturé</td>\n",
       "      <td>2294</td>\n",
       "      <td>Av_Champs_Elysees-Washington</td>\n",
       "      <td>2293</td>\n",
       "      <td>...</td>\n",
       "      <td>1647.0</td>\n",
       "      <td>1688.0</td>\n",
       "      <td>1627.0</td>\n",
       "      <td>1561.0</td>\n",
       "      <td>1465.0</td>\n",
       "      <td>1251.0</td>\n",
       "      <td>1674.0</td>\n",
       "      <td>1514.0</td>\n",
       "      <td>1457.0</td>\n",
       "      <td>1433.0</td>\n",
       "    </tr>\n",
       "    <tr>\n",
       "      <th>22547</th>\n",
       "      <td>22547</td>\n",
       "      <td>2023-11-30 21:00:00+00:00</td>\n",
       "      <td>4264</td>\n",
       "      <td>AV_Champs_Elysees</td>\n",
       "      <td>1069.0</td>\n",
       "      <td>20.40723</td>\n",
       "      <td>Pré-saturé</td>\n",
       "      <td>2294</td>\n",
       "      <td>Av_Champs_Elysees-Washington</td>\n",
       "      <td>2293</td>\n",
       "      <td>...</td>\n",
       "      <td>1688.0</td>\n",
       "      <td>1627.0</td>\n",
       "      <td>1561.0</td>\n",
       "      <td>1465.0</td>\n",
       "      <td>1251.0</td>\n",
       "      <td>1674.0</td>\n",
       "      <td>1514.0</td>\n",
       "      <td>1457.0</td>\n",
       "      <td>1433.0</td>\n",
       "      <td>1253.0</td>\n",
       "    </tr>\n",
       "    <tr>\n",
       "      <th>26847</th>\n",
       "      <td>26847</td>\n",
       "      <td>2023-11-30 22:00:00+00:00</td>\n",
       "      <td>4264</td>\n",
       "      <td>AV_Champs_Elysees</td>\n",
       "      <td>950.0</td>\n",
       "      <td>16.66334</td>\n",
       "      <td>Pré-saturé</td>\n",
       "      <td>2294</td>\n",
       "      <td>Av_Champs_Elysees-Washington</td>\n",
       "      <td>2293</td>\n",
       "      <td>...</td>\n",
       "      <td>1627.0</td>\n",
       "      <td>1561.0</td>\n",
       "      <td>1465.0</td>\n",
       "      <td>1251.0</td>\n",
       "      <td>1674.0</td>\n",
       "      <td>1514.0</td>\n",
       "      <td>1457.0</td>\n",
       "      <td>1433.0</td>\n",
       "      <td>1253.0</td>\n",
       "      <td>1069.0</td>\n",
       "    </tr>\n",
       "    <tr>\n",
       "      <th>22546</th>\n",
       "      <td>22546</td>\n",
       "      <td>2023-11-30 23:00:00+00:00</td>\n",
       "      <td>4264</td>\n",
       "      <td>AV_Champs_Elysees</td>\n",
       "      <td>863.0</td>\n",
       "      <td>13.60389</td>\n",
       "      <td>Fluide</td>\n",
       "      <td>2294</td>\n",
       "      <td>Av_Champs_Elysees-Washington</td>\n",
       "      <td>2293</td>\n",
       "      <td>...</td>\n",
       "      <td>1561.0</td>\n",
       "      <td>1465.0</td>\n",
       "      <td>1251.0</td>\n",
       "      <td>1674.0</td>\n",
       "      <td>1514.0</td>\n",
       "      <td>1457.0</td>\n",
       "      <td>1433.0</td>\n",
       "      <td>1253.0</td>\n",
       "      <td>1069.0</td>\n",
       "      <td>950.0</td>\n",
       "    </tr>\n",
       "  </tbody>\n",
       "</table>\n",
       "<p>9290 rows × 64 columns</p>\n",
       "</div>"
      ],
      "text/plain": [
       "       Unnamed: 0  Date et heure de comptage  Identifiant arc  \\\n",
       "2138         2138  2022-11-02 03:00:00+00:00             4264   \n",
       "6566         6566  2022-11-02 04:00:00+00:00             4264   \n",
       "2137         2137  2022-11-02 05:00:00+00:00             4264   \n",
       "2136         2136  2022-11-02 06:00:00+00:00             4264   \n",
       "6565         6565  2022-11-02 07:00:00+00:00             4264   \n",
       "...           ...                        ...              ...   \n",
       "26848       26848  2023-11-30 19:00:00+00:00             4264   \n",
       "22548       22548  2023-11-30 20:00:00+00:00             4264   \n",
       "22547       22547  2023-11-30 21:00:00+00:00             4264   \n",
       "26847       26847  2023-11-30 22:00:00+00:00             4264   \n",
       "22546       22546  2023-11-30 23:00:00+00:00             4264   \n",
       "\n",
       "                 Libelle  Débit horaire  Taux d'occupation Etat trafic  \\\n",
       "2138   AV_Champs_Elysees          212.0            2.70555      Fluide   \n",
       "6566   AV_Champs_Elysees          156.0            2.40056      Fluide   \n",
       "2137   AV_Champs_Elysees          283.0            3.24278      Fluide   \n",
       "2136   AV_Champs_Elysees          602.0            6.90889      Fluide   \n",
       "6565   AV_Champs_Elysees          887.0           16.74389  Pré-saturé   \n",
       "...                  ...            ...                ...         ...   \n",
       "26848  AV_Champs_Elysees         1433.0           30.87000      Saturé   \n",
       "22548  AV_Champs_Elysees         1253.0           24.38111  Pré-saturé   \n",
       "22547  AV_Champs_Elysees         1069.0           20.40723  Pré-saturé   \n",
       "26847  AV_Champs_Elysees          950.0           16.66334  Pré-saturé   \n",
       "22546  AV_Champs_Elysees          863.0           13.60389      Fluide   \n",
       "\n",
       "       Identifiant noeud amont           Libelle noeud amont  \\\n",
       "2138                      2294  Av_Champs_Elysees-Washington   \n",
       "6566                      2294  Av_Champs_Elysees-Washington   \n",
       "2137                      2294  Av_Champs_Elysees-Washington   \n",
       "2136                      2294  Av_Champs_Elysees-Washington   \n",
       "6565                      2294  Av_Champs_Elysees-Washington   \n",
       "...                        ...                           ...   \n",
       "26848                     2294  Av_Champs_Elysees-Washington   \n",
       "22548                     2294  Av_Champs_Elysees-Washington   \n",
       "22547                     2294  Av_Champs_Elysees-Washington   \n",
       "26847                     2294  Av_Champs_Elysees-Washington   \n",
       "22546                     2294  Av_Champs_Elysees-Washington   \n",
       "\n",
       "       Identifiant noeud aval  ... Débit Horaire lag 15 Débit Horaire lag 16  \\\n",
       "2138                     2293  ...               1149.0               1123.0   \n",
       "6566                     2293  ...               1123.0               1018.0   \n",
       "2137                     2293  ...               1018.0                933.0   \n",
       "2136                     2293  ...                933.0                833.0   \n",
       "6565                     2293  ...                833.0                780.0   \n",
       "...                       ...  ...                  ...                  ...   \n",
       "26848                    2293  ...               1740.0               1647.0   \n",
       "22548                    2293  ...               1647.0               1688.0   \n",
       "22547                    2293  ...               1688.0               1627.0   \n",
       "26847                    2293  ...               1627.0               1561.0   \n",
       "22546                    2293  ...               1561.0               1465.0   \n",
       "\n",
       "       Débit Horaire lag 17 Débit Horaire lag 18  Débit Horaire lag 19  \\\n",
       "2138                 1018.0                933.0                 833.0   \n",
       "6566                  933.0                833.0                 780.0   \n",
       "2137                  833.0                780.0                 705.0   \n",
       "2136                  780.0                705.0                 667.0   \n",
       "6565                  705.0                667.0                 465.0   \n",
       "...                     ...                  ...                   ...   \n",
       "26848                1688.0               1627.0                1561.0   \n",
       "22548                1627.0               1561.0                1465.0   \n",
       "22547                1561.0               1465.0                1251.0   \n",
       "26847                1465.0               1251.0                1674.0   \n",
       "22546                1251.0               1674.0                1514.0   \n",
       "\n",
       "       Débit Horaire lag 20  Débit Horaire lag 21  Débit Horaire lag 22  \\\n",
       "2138                  780.0                 705.0                 667.0   \n",
       "6566                  705.0                 667.0                 465.0   \n",
       "2137                  667.0                 465.0                 268.0   \n",
       "2136                  465.0                 268.0                 212.0   \n",
       "6565                  268.0                 212.0                 156.0   \n",
       "...                     ...                   ...                   ...   \n",
       "26848                1465.0                1251.0                1674.0   \n",
       "22548                1251.0                1674.0                1514.0   \n",
       "22547                1674.0                1514.0                1457.0   \n",
       "26847                1514.0                1457.0                1433.0   \n",
       "22546                1457.0                1433.0                1253.0   \n",
       "\n",
       "       Débit Horaire lag 23  Débit Horaire lag 24  \n",
       "2138                  465.0                 268.0  \n",
       "6566                  268.0                 212.0  \n",
       "2137                  212.0                 156.0  \n",
       "2136                  156.0                 283.0  \n",
       "6565                  283.0                 602.0  \n",
       "...                     ...                   ...  \n",
       "26848                1514.0                1457.0  \n",
       "22548                1457.0                1433.0  \n",
       "22547                1433.0                1253.0  \n",
       "26847                1253.0                1069.0  \n",
       "22546                1069.0                 950.0  \n",
       "\n",
       "[9290 rows x 64 columns]"
      ]
     },
     "execution_count": 11,
     "metadata": {},
     "output_type": "execute_result"
    }
   ],
   "source": [
    "def series_to_supervised(data, n_in=1, n_out=1, dropnan=True):\n",
    "    if isinstance(data, pd.Series):\n",
    "        data = pd.DataFrame(data)\n",
    "    \n",
    "    n_vars = 1 if isinstance(data, list) else data.shape[1]\n",
    "    cols = list()\n",
    "    \n",
    "    # input sequence (t-n, ... t-1)\n",
    "    for i in range(n_in, 0, -1):\n",
    "        cols.append(data.shift(i))\n",
    "    \n",
    "    # forecast sequence (t, t+1, ... t+n)\n",
    "    for i in range(0, n_out):\n",
    "        cols.append(data.shift(-i))\n",
    "    \n",
    "    # put it all together\n",
    "    agg = pd.concat(cols, axis=1)\n",
    "    \n",
    "    # drop rows with NaN values\n",
    "    if dropnan:\n",
    "        agg.dropna(inplace=True)\n",
    "        \n",
    "    new_cols = [f'Débit Horaire lag {i}' for i in range(1, len(agg.columns) + 1)]\n",
    "    agg.columns = new_cols\n",
    "    \n",
    "    return agg\n",
    "\n",
    "n_lags = 24\n",
    "lags = series_to_supervised(champs['Débit horaire'], n_lags, 0)\n",
    "\n",
    "champs_fr_removed = champs.iloc[n_lags:, :]\n",
    "\n",
    "champs_with_lags = pd.concat([champs_fr_removed, lags], axis=1)\n",
    "\n",
    "champs_with_lags"
   ]
  },
  {
   "cell_type": "code",
   "execution_count": 28,
   "metadata": {},
   "outputs": [
    {
     "data": {
      "image/png": "[encoded data removed]",
      "text/plain": [
       "<Figure size 1440x1440 with 2 Axes>"
      ]
     },
     "metadata": {
      "needs_background": "light"
     },
     "output_type": "display_data"
    }
   ],
   "source": [
    "champs_numeric = champs_with_lags.drop(columns=['Libelle', 'Date et heure de comptage', 'Libelle noeud amont', 'Libelle noeud aval', 'date', 'timestamp', 'timestamp_short', 'arrondissement','Identifiant arc', 'holiday', 'yearmonth', 'day_of_week'], errors='ignore')\n",
    "\n",
    "champs_numeric = pd.get_dummies(champs_numeric, columns=['Etat arc', 'Etat trafic'], drop_first=True)\n",
    "correlation_matrix = champs_numeric.corr()\n",
    "\n",
    "# Create a heatmap\n",
    "plt.figure(figsize=(20,20))\n",
    "sns.heatmap(correlation_matrix, annot=False, cmap='coolwarm', fmt='.2f', linewidths=.5)\n",
    "plt.title('Correlation Heatmap')\n",
    "plt.show()"
   ]
  },
  {
   "cell_type": "code",
   "execution_count": 14,
   "metadata": {},
   "outputs": [],
   "source": [
    "def series_to_supervised_reduced(data, dropnan=True):\n",
    "    if isinstance(data, pd.Series):\n",
    "        data = pd.DataFrame(data)\n",
    "    \n",
    "    n_vars = 1 if isinstance(data, list) else data.shape[1]\n",
    "    cols = list()\n",
    "    \n",
    "    # input sequence (t-n, ... t-1)\n",
    "    \n",
    "    cols.append(data.shift(1))\n",
    "    cols.append(data.shift(12))\n",
    "    cols.append(data.shift(24))\n",
    "    cols.append(data.shift(168))\n",
    "    \n",
    "    # put it all together\n",
    "    agg = pd.concat(cols, axis=1)\n",
    "    \n",
    "        \n",
    "    new_cols = [f'Débit Horaire lag {i}' for i in range(1, len(agg.columns) + 1)]\n",
    "    agg.columns = new_cols\n",
    "    \n",
    "    agg = agg.iloc[168:,:]\n",
    "    \n",
    "    return agg"
   ]
  },
  {
   "cell_type": "code",
   "execution_count": 183,
   "metadata": {},
   "outputs": [],
   "source": [
    "champs['Débit horaire'] = champs['Débit horaire'].interpolate(method='linear')\n",
    "champs[\"Taux d'occupation\"] = champs[\"Taux d'occupation\"].interpolate(method='linear')\n",
    "champs[\"temp\"] = champs[\"temp\"].interpolate(method='linear')\n",
    "champs[\"humidity\"] = champs[\"humidity\"].interpolate(method='linear')\n",
    "champs[\"visibility\"] = champs[\"visibility\"].interpolate(method='linear')\n",
    "champs[\"Variation de pression en 24 heures\"] = champs[\"Variation de pression en 24 heures\"].interpolate(method='linear')\n",
    "champs[\"Précipitations dans les 24 dernières heures\"] = champs[\"Précipitations dans les 24 dernières heures\"].interpolate(method='linear')\n",
    "champs[\"rain\"] = champs[\"rain\"].interpolate(method='linear')\n",
    "champs[\"atm_pressure\"] = champs[\"atm_pressure\"].interpolate(method='linear')\n",
    "champs[\"wind_speed\"] = champs[\"wind_speed\"].interpolate(method='linear')\n",
    "\n",
    "lags = series_to_supervised_reduced(champs['Débit horaire'])\n",
    "\n",
    "champs_fr_removed = champs.iloc[168:, :]\n",
    "\n",
    "champs_with_lags = pd.concat([champs_fr_removed, lags], axis=1)\n",
    "\n",
    "champs_numeric = champs_with_lags.drop(columns=['Libelle', 'Date et heure de comptage', 'Libelle noeud amont', 'Libelle noeud aval', 'date', 'timestamp', 'timestamp_short', 'arrondissement','Identifiant arc', 'holiday', 'yearmonth', 'day_of_week'], errors='ignore')\n",
    "\n",
    "champs_numeric = pd.get_dummies(champs_numeric, columns=['Etat arc', 'Etat trafic'], drop_first=True)\n"
   ]
  },
  {
   "cell_type": "code",
   "execution_count": 187,
   "metadata": {},
   "outputs": [],
   "source": [
    "def walk_forward_validation(data, n_test):\n",
    "    predictions = list()\n",
    "    # split dataset\n",
    "    train, test = train_test_split(data, n_test)\n",
    "    testX, testy = test.drop(columns=[\"Débit horaire\", \"Taux d'occupation\"], errors='ignore'), test['Débit horaire']\n",
    "    \n",
    "    # step over each time-step in the test set\n",
    "    for i in range(len(test)):\n",
    "        # split test row into input and output columns\n",
    "        testX_row = testX.iloc[i,:]\n",
    "        testy_row = testy.iloc[i]\n",
    "\n",
    "        \n",
    "        # fit model on history and make a prediction\n",
    "        yhat = xgboost_forecast(train, testX_row)\n",
    "        # store forecast in list of predictions\n",
    "        predictions.append(yhat)\n",
    "        \n",
    "        # summarize progress\n",
    "        print('>expected=%.1f, predicted=%.1f' % (testy_row, yhat))\n",
    "        \n",
    "    # estimate prediction error\n",
    "    error = mean_squared_error(testy, predictions)\n",
    "    return error, testy, predictions\n"
   ]
  },
  {
   "cell_type": "code",
   "execution_count": 184,
   "metadata": {},
   "outputs": [],
   "source": [
    "def xgboost_forecast(train, testX):\n",
    "\n",
    "    # split into input and output columns\n",
    "    trainX, trainy = train.drop(columns=[\"Débit horaire\", \"Taux d'occupation\"], errors='ignore'), train['Débit horaire']\n",
    "    \n",
    "    trainX = np.asarray(trainX)\n",
    "    trainy = np.asarray(trainy)\n",
    "    \n",
    "    # fit model\n",
    "    model = XGBRegressor(objective='reg:squarederror', n_estimators=1000)\n",
    "    model.fit(trainX, trainy)\n",
    "    # make a one-step prediction\n",
    "    yhat = model.predict([testX])\n",
    "    return yhat[0]"
   ]
  },
  {
   "cell_type": "code",
   "execution_count": 185,
   "metadata": {},
   "outputs": [],
   "source": [
    "def train_test_split(data, n_test):\n",
    "    return data.iloc[:-n_test, :], data.iloc[-n_test:, :]"
   ]
  },
  {
   "cell_type": "code",
   "execution_count": 92,
   "metadata": {},
   "outputs": [
    {
     "name": "stderr",
     "output_type": "stream",
     "text": [
      "<ipython-input-89-bf7755a0bd4e>:18: SettingWithCopyWarning: \n",
      "A value is trying to be set on a copy of a slice from a DataFrame\n",
      "\n",
      "See the caveats in the documentation: https://pandas.pydata.org/pandas-docs/stable/user_guide/indexing.html#returning-a-view-versus-a-copy\n",
      "  new_row['Débit horaire'] = yhat\n",
      "<ipython-input-89-bf7755a0bd4e>:20: SettingWithCopyWarning: \n",
      "A value is trying to be set on a copy of a slice from a DataFrame\n",
      "\n",
      "See the caveats in the documentation: https://pandas.pydata.org/pandas-docs/stable/user_guide/indexing.html#returning-a-view-versus-a-copy\n",
      "  train.loc[len(train)] = new_row\n"
     ]
    },
    {
     "name": "stdout",
     "output_type": "stream",
     "text": [
      ">expected=615.0, predicted=503.2\n"
     ]
    },
    {
     "name": "stderr",
     "output_type": "stream",
     "text": [
      "<ipython-input-89-bf7755a0bd4e>:18: SettingWithCopyWarning: \n",
      "A value is trying to be set on a copy of a slice from a DataFrame\n",
      "\n",
      "See the caveats in the documentation: https://pandas.pydata.org/pandas-docs/stable/user_guide/indexing.html#returning-a-view-versus-a-copy\n",
      "  new_row['Débit horaire'] = yhat\n",
      "<ipython-input-89-bf7755a0bd4e>:20: SettingWithCopyWarning: \n",
      "A value is trying to be set on a copy of a slice from a DataFrame\n",
      "\n",
      "See the caveats in the documentation: https://pandas.pydata.org/pandas-docs/stable/user_guide/indexing.html#returning-a-view-versus-a-copy\n",
      "  train.loc[len(train)] = new_row\n"
     ]
    },
    {
     "name": "stdout",
     "output_type": "stream",
     "text": [
      ">expected=439.0, predicted=391.7\n"
     ]
    },
    {
     "name": "stderr",
     "output_type": "stream",
     "text": [
      "<ipython-input-89-bf7755a0bd4e>:18: SettingWithCopyWarning: \n",
      "A value is trying to be set on a copy of a slice from a DataFrame\n",
      "\n",
      "See the caveats in the documentation: https://pandas.pydata.org/pandas-docs/stable/user_guide/indexing.html#returning-a-view-versus-a-copy\n",
      "  new_row['Débit horaire'] = yhat\n",
      "<ipython-input-89-bf7755a0bd4e>:20: SettingWithCopyWarning: \n",
      "A value is trying to be set on a copy of a slice from a DataFrame\n",
      "\n",
      "See the caveats in the documentation: https://pandas.pydata.org/pandas-docs/stable/user_guide/indexing.html#returning-a-view-versus-a-copy\n",
      "  train.loc[len(train)] = new_row\n"
     ]
    },
    {
     "name": "stdout",
     "output_type": "stream",
     "text": [
      ">expected=273.0, predicted=402.7\n"
     ]
    },
    {
     "name": "stderr",
     "output_type": "stream",
     "text": [
      "<ipython-input-89-bf7755a0bd4e>:18: SettingWithCopyWarning: \n",
      "A value is trying to be set on a copy of a slice from a DataFrame\n",
      "\n",
      "See the caveats in the documentation: https://pandas.pydata.org/pandas-docs/stable/user_guide/indexing.html#returning-a-view-versus-a-copy\n",
      "  new_row['Débit horaire'] = yhat\n",
      "<ipython-input-89-bf7755a0bd4e>:20: SettingWithCopyWarning: \n",
      "A value is trying to be set on a copy of a slice from a DataFrame\n",
      "\n",
      "See the caveats in the documentation: https://pandas.pydata.org/pandas-docs/stable/user_guide/indexing.html#returning-a-view-versus-a-copy\n",
      "  train.loc[len(train)] = new_row\n"
     ]
    },
    {
     "name": "stdout",
     "output_type": "stream",
     "text": [
      ">expected=212.0, predicted=195.0\n"
     ]
    },
    {
     "name": "stderr",
     "output_type": "stream",
     "text": [
      "<ipython-input-89-bf7755a0bd4e>:18: SettingWithCopyWarning: \n",
      "A value is trying to be set on a copy of a slice from a DataFrame\n",
      "\n",
      "See the caveats in the documentation: https://pandas.pydata.org/pandas-docs/stable/user_guide/indexing.html#returning-a-view-versus-a-copy\n",
      "  new_row['Débit horaire'] = yhat\n",
      "<ipython-input-89-bf7755a0bd4e>:20: SettingWithCopyWarning: \n",
      "A value is trying to be set on a copy of a slice from a DataFrame\n",
      "\n",
      "See the caveats in the documentation: https://pandas.pydata.org/pandas-docs/stable/user_guide/indexing.html#returning-a-view-versus-a-copy\n",
      "  train.loc[len(train)] = new_row\n"
     ]
    },
    {
     "name": "stdout",
     "output_type": "stream",
     "text": [
      ">expected=361.0, predicted=207.5\n"
     ]
    },
    {
     "name": "stderr",
     "output_type": "stream",
     "text": [
      "<ipython-input-89-bf7755a0bd4e>:18: SettingWithCopyWarning: \n",
      "A value is trying to be set on a copy of a slice from a DataFrame\n",
      "\n",
      "See the caveats in the documentation: https://pandas.pydata.org/pandas-docs/stable/user_guide/indexing.html#returning-a-view-versus-a-copy\n",
      "  new_row['Débit horaire'] = yhat\n",
      "<ipython-input-89-bf7755a0bd4e>:20: SettingWithCopyWarning: \n",
      "A value is trying to be set on a copy of a slice from a DataFrame\n",
      "\n",
      "See the caveats in the documentation: https://pandas.pydata.org/pandas-docs/stable/user_guide/indexing.html#returning-a-view-versus-a-copy\n",
      "  train.loc[len(train)] = new_row\n"
     ]
    },
    {
     "name": "stdout",
     "output_type": "stream",
     "text": [
      ">expected=367.0, predicted=574.8\n"
     ]
    },
    {
     "name": "stderr",
     "output_type": "stream",
     "text": [
      "<ipython-input-89-bf7755a0bd4e>:18: SettingWithCopyWarning: \n",
      "A value is trying to be set on a copy of a slice from a DataFrame\n",
      "\n",
      "See the caveats in the documentation: https://pandas.pydata.org/pandas-docs/stable/user_guide/indexing.html#returning-a-view-versus-a-copy\n",
      "  new_row['Débit horaire'] = yhat\n",
      "<ipython-input-89-bf7755a0bd4e>:20: SettingWithCopyWarning: \n",
      "A value is trying to be set on a copy of a slice from a DataFrame\n",
      "\n",
      "See the caveats in the documentation: https://pandas.pydata.org/pandas-docs/stable/user_guide/indexing.html#returning-a-view-versus-a-copy\n",
      "  train.loc[len(train)] = new_row\n"
     ]
    },
    {
     "name": "stdout",
     "output_type": "stream",
     "text": [
      ">expected=677.0, predicted=732.7\n"
     ]
    },
    {
     "name": "stderr",
     "output_type": "stream",
     "text": [
      "<ipython-input-89-bf7755a0bd4e>:18: SettingWithCopyWarning: \n",
      "A value is trying to be set on a copy of a slice from a DataFrame\n",
      "\n",
      "See the caveats in the documentation: https://pandas.pydata.org/pandas-docs/stable/user_guide/indexing.html#returning-a-view-versus-a-copy\n",
      "  new_row['Débit horaire'] = yhat\n",
      "<ipython-input-89-bf7755a0bd4e>:20: SettingWithCopyWarning: \n",
      "A value is trying to be set on a copy of a slice from a DataFrame\n",
      "\n",
      "See the caveats in the documentation: https://pandas.pydata.org/pandas-docs/stable/user_guide/indexing.html#returning-a-view-versus-a-copy\n",
      "  train.loc[len(train)] = new_row\n"
     ]
    },
    {
     "name": "stdout",
     "output_type": "stream",
     "text": [
      ">expected=1381.0, predicted=1119.8\n"
     ]
    },
    {
     "name": "stderr",
     "output_type": "stream",
     "text": [
      "<ipython-input-89-bf7755a0bd4e>:18: SettingWithCopyWarning: \n",
      "A value is trying to be set on a copy of a slice from a DataFrame\n",
      "\n",
      "See the caveats in the documentation: https://pandas.pydata.org/pandas-docs/stable/user_guide/indexing.html#returning-a-view-versus-a-copy\n",
      "  new_row['Débit horaire'] = yhat\n",
      "<ipython-input-89-bf7755a0bd4e>:20: SettingWithCopyWarning: \n",
      "A value is trying to be set on a copy of a slice from a DataFrame\n",
      "\n",
      "See the caveats in the documentation: https://pandas.pydata.org/pandas-docs/stable/user_guide/indexing.html#returning-a-view-versus-a-copy\n",
      "  train.loc[len(train)] = new_row\n"
     ]
    },
    {
     "name": "stdout",
     "output_type": "stream",
     "text": [
      ">expected=1398.0, predicted=1473.7\n"
     ]
    },
    {
     "name": "stderr",
     "output_type": "stream",
     "text": [
      "<ipython-input-89-bf7755a0bd4e>:18: SettingWithCopyWarning: \n",
      "A value is trying to be set on a copy of a slice from a DataFrame\n",
      "\n",
      "See the caveats in the documentation: https://pandas.pydata.org/pandas-docs/stable/user_guide/indexing.html#returning-a-view-versus-a-copy\n",
      "  new_row['Débit horaire'] = yhat\n"
     ]
    },
    {
     "name": "stdout",
     "output_type": "stream",
     "text": [
      ">expected=1374.0, predicted=1469.0\n"
     ]
    },
    {
     "name": "stderr",
     "output_type": "stream",
     "text": [
      "<ipython-input-89-bf7755a0bd4e>:18: SettingWithCopyWarning: \n",
      "A value is trying to be set on a copy of a slice from a DataFrame\n",
      "\n",
      "See the caveats in the documentation: https://pandas.pydata.org/pandas-docs/stable/user_guide/indexing.html#returning-a-view-versus-a-copy\n",
      "  new_row['Débit horaire'] = yhat\n"
     ]
    },
    {
     "name": "stdout",
     "output_type": "stream",
     "text": [
      ">expected=1305.0, predicted=1429.4\n"
     ]
    },
    {
     "name": "stderr",
     "output_type": "stream",
     "text": [
      "<ipython-input-89-bf7755a0bd4e>:18: SettingWithCopyWarning: \n",
      "A value is trying to be set on a copy of a slice from a DataFrame\n",
      "\n",
      "See the caveats in the documentation: https://pandas.pydata.org/pandas-docs/stable/user_guide/indexing.html#returning-a-view-versus-a-copy\n",
      "  new_row['Débit horaire'] = yhat\n"
     ]
    },
    {
     "name": "stdout",
     "output_type": "stream",
     "text": [
      ">expected=1342.0, predicted=1316.7\n"
     ]
    },
    {
     "name": "stderr",
     "output_type": "stream",
     "text": [
      "<ipython-input-89-bf7755a0bd4e>:18: SettingWithCopyWarning: \n",
      "A value is trying to be set on a copy of a slice from a DataFrame\n",
      "\n",
      "See the caveats in the documentation: https://pandas.pydata.org/pandas-docs/stable/user_guide/indexing.html#returning-a-view-versus-a-copy\n",
      "  new_row['Débit horaire'] = yhat\n"
     ]
    },
    {
     "name": "stdout",
     "output_type": "stream",
     "text": [
      ">expected=1331.0, predicted=1357.6\n"
     ]
    },
    {
     "name": "stderr",
     "output_type": "stream",
     "text": [
      "<ipython-input-89-bf7755a0bd4e>:18: SettingWithCopyWarning: \n",
      "A value is trying to be set on a copy of a slice from a DataFrame\n",
      "\n",
      "See the caveats in the documentation: https://pandas.pydata.org/pandas-docs/stable/user_guide/indexing.html#returning-a-view-versus-a-copy\n",
      "  new_row['Débit horaire'] = yhat\n"
     ]
    },
    {
     "name": "stdout",
     "output_type": "stream",
     "text": [
      ">expected=1282.0, predicted=1382.8\n"
     ]
    },
    {
     "name": "stderr",
     "output_type": "stream",
     "text": [
      "<ipython-input-89-bf7755a0bd4e>:18: SettingWithCopyWarning: \n",
      "A value is trying to be set on a copy of a slice from a DataFrame\n",
      "\n",
      "See the caveats in the documentation: https://pandas.pydata.org/pandas-docs/stable/user_guide/indexing.html#returning-a-view-versus-a-copy\n",
      "  new_row['Débit horaire'] = yhat\n"
     ]
    },
    {
     "name": "stdout",
     "output_type": "stream",
     "text": [
      ">expected=1269.0, predicted=1395.7\n"
     ]
    },
    {
     "name": "stderr",
     "output_type": "stream",
     "text": [
      "<ipython-input-89-bf7755a0bd4e>:18: SettingWithCopyWarning: \n",
      "A value is trying to be set on a copy of a slice from a DataFrame\n",
      "\n",
      "See the caveats in the documentation: https://pandas.pydata.org/pandas-docs/stable/user_guide/indexing.html#returning-a-view-versus-a-copy\n",
      "  new_row['Débit horaire'] = yhat\n"
     ]
    },
    {
     "name": "stdout",
     "output_type": "stream",
     "text": [
      ">expected=1322.0, predicted=1306.0\n"
     ]
    },
    {
     "name": "stderr",
     "output_type": "stream",
     "text": [
      "<ipython-input-89-bf7755a0bd4e>:18: SettingWithCopyWarning: \n",
      "A value is trying to be set on a copy of a slice from a DataFrame\n",
      "\n",
      "See the caveats in the documentation: https://pandas.pydata.org/pandas-docs/stable/user_guide/indexing.html#returning-a-view-versus-a-copy\n",
      "  new_row['Débit horaire'] = yhat\n"
     ]
    },
    {
     "name": "stdout",
     "output_type": "stream",
     "text": [
      ">expected=1416.0, predicted=1259.1\n"
     ]
    },
    {
     "name": "stderr",
     "output_type": "stream",
     "text": [
      "<ipython-input-89-bf7755a0bd4e>:18: SettingWithCopyWarning: \n",
      "A value is trying to be set on a copy of a slice from a DataFrame\n",
      "\n",
      "See the caveats in the documentation: https://pandas.pydata.org/pandas-docs/stable/user_guide/indexing.html#returning-a-view-versus-a-copy\n",
      "  new_row['Débit horaire'] = yhat\n"
     ]
    },
    {
     "name": "stdout",
     "output_type": "stream",
     "text": [
      ">expected=1337.0, predicted=1416.6\n"
     ]
    },
    {
     "name": "stderr",
     "output_type": "stream",
     "text": [
      "<ipython-input-89-bf7755a0bd4e>:18: SettingWithCopyWarning: \n",
      "A value is trying to be set on a copy of a slice from a DataFrame\n",
      "\n",
      "See the caveats in the documentation: https://pandas.pydata.org/pandas-docs/stable/user_guide/indexing.html#returning-a-view-versus-a-copy\n",
      "  new_row['Débit horaire'] = yhat\n"
     ]
    },
    {
     "name": "stdout",
     "output_type": "stream",
     "text": [
      ">expected=1383.0, predicted=1270.8\n"
     ]
    },
    {
     "name": "stderr",
     "output_type": "stream",
     "text": [
      "<ipython-input-89-bf7755a0bd4e>:18: SettingWithCopyWarning: \n",
      "A value is trying to be set on a copy of a slice from a DataFrame\n",
      "\n",
      "See the caveats in the documentation: https://pandas.pydata.org/pandas-docs/stable/user_guide/indexing.html#returning-a-view-versus-a-copy\n",
      "  new_row['Débit horaire'] = yhat\n"
     ]
    },
    {
     "name": "stdout",
     "output_type": "stream",
     "text": [
      ">expected=1400.0, predicted=1389.8\n"
     ]
    },
    {
     "name": "stderr",
     "output_type": "stream",
     "text": [
      "<ipython-input-89-bf7755a0bd4e>:18: SettingWithCopyWarning: \n",
      "A value is trying to be set on a copy of a slice from a DataFrame\n",
      "\n",
      "See the caveats in the documentation: https://pandas.pydata.org/pandas-docs/stable/user_guide/indexing.html#returning-a-view-versus-a-copy\n",
      "  new_row['Débit horaire'] = yhat\n"
     ]
    },
    {
     "name": "stdout",
     "output_type": "stream",
     "text": [
      ">expected=1258.0, predicted=1319.0\n"
     ]
    },
    {
     "name": "stderr",
     "output_type": "stream",
     "text": [
      "<ipython-input-89-bf7755a0bd4e>:18: SettingWithCopyWarning: \n",
      "A value is trying to be set on a copy of a slice from a DataFrame\n",
      "\n",
      "See the caveats in the documentation: https://pandas.pydata.org/pandas-docs/stable/user_guide/indexing.html#returning-a-view-versus-a-copy\n",
      "  new_row['Débit horaire'] = yhat\n"
     ]
    },
    {
     "name": "stdout",
     "output_type": "stream",
     "text": [
      ">expected=928.0, predicted=1121.3\n"
     ]
    },
    {
     "name": "stderr",
     "output_type": "stream",
     "text": [
      "<ipython-input-89-bf7755a0bd4e>:18: SettingWithCopyWarning: \n",
      "A value is trying to be set on a copy of a slice from a DataFrame\n",
      "\n",
      "See the caveats in the documentation: https://pandas.pydata.org/pandas-docs/stable/user_guide/indexing.html#returning-a-view-versus-a-copy\n",
      "  new_row['Débit horaire'] = yhat\n"
     ]
    },
    {
     "name": "stdout",
     "output_type": "stream",
     "text": [
      ">expected=880.0, predicted=901.9\n"
     ]
    },
    {
     "name": "stderr",
     "output_type": "stream",
     "text": [
      "<ipython-input-89-bf7755a0bd4e>:18: SettingWithCopyWarning: \n",
      "A value is trying to be set on a copy of a slice from a DataFrame\n",
      "\n",
      "See the caveats in the documentation: https://pandas.pydata.org/pandas-docs/stable/user_guide/indexing.html#returning-a-view-versus-a-copy\n",
      "  new_row['Débit horaire'] = yhat\n"
     ]
    },
    {
     "name": "stdout",
     "output_type": "stream",
     "text": [
      ">expected=772.0, predicted=783.1\n"
     ]
    },
    {
     "name": "stderr",
     "output_type": "stream",
     "text": [
      "<ipython-input-89-bf7755a0bd4e>:18: SettingWithCopyWarning: \n",
      "A value is trying to be set on a copy of a slice from a DataFrame\n",
      "\n",
      "See the caveats in the documentation: https://pandas.pydata.org/pandas-docs/stable/user_guide/indexing.html#returning-a-view-versus-a-copy\n",
      "  new_row['Débit horaire'] = yhat\n"
     ]
    },
    {
     "name": "stdout",
     "output_type": "stream",
     "text": [
      ">expected=948.0, predicted=618.1\n"
     ]
    },
    {
     "name": "stderr",
     "output_type": "stream",
     "text": [
      "<ipython-input-89-bf7755a0bd4e>:18: SettingWithCopyWarning: \n",
      "A value is trying to be set on a copy of a slice from a DataFrame\n",
      "\n",
      "See the caveats in the documentation: https://pandas.pydata.org/pandas-docs/stable/user_guide/indexing.html#returning-a-view-versus-a-copy\n",
      "  new_row['Débit horaire'] = yhat\n"
     ]
    },
    {
     "name": "stdout",
     "output_type": "stream",
     "text": [
      ">expected=1621.0, predicted=910.6\n"
     ]
    },
    {
     "name": "stderr",
     "output_type": "stream",
     "text": [
      "<ipython-input-89-bf7755a0bd4e>:18: SettingWithCopyWarning: \n",
      "A value is trying to be set on a copy of a slice from a DataFrame\n",
      "\n",
      "See the caveats in the documentation: https://pandas.pydata.org/pandas-docs/stable/user_guide/indexing.html#returning-a-view-versus-a-copy\n",
      "  new_row['Débit horaire'] = yhat\n"
     ]
    },
    {
     "name": "stdout",
     "output_type": "stream",
     "text": [
      ">expected=631.0, predicted=1216.9\n"
     ]
    },
    {
     "name": "stderr",
     "output_type": "stream",
     "text": [
      "<ipython-input-89-bf7755a0bd4e>:18: SettingWithCopyWarning: \n",
      "A value is trying to be set on a copy of a slice from a DataFrame\n",
      "\n",
      "See the caveats in the documentation: https://pandas.pydata.org/pandas-docs/stable/user_guide/indexing.html#returning-a-view-versus-a-copy\n",
      "  new_row['Débit horaire'] = yhat\n"
     ]
    },
    {
     "name": "stdout",
     "output_type": "stream",
     "text": [
      ">expected=261.0, predicted=528.8\n"
     ]
    },
    {
     "name": "stderr",
     "output_type": "stream",
     "text": [
      "<ipython-input-89-bf7755a0bd4e>:18: SettingWithCopyWarning: \n",
      "A value is trying to be set on a copy of a slice from a DataFrame\n",
      "\n",
      "See the caveats in the documentation: https://pandas.pydata.org/pandas-docs/stable/user_guide/indexing.html#returning-a-view-versus-a-copy\n",
      "  new_row['Débit horaire'] = yhat\n"
     ]
    },
    {
     "name": "stdout",
     "output_type": "stream",
     "text": [
      ">expected=219.0, predicted=312.9\n"
     ]
    },
    {
     "name": "stderr",
     "output_type": "stream",
     "text": [
      "<ipython-input-89-bf7755a0bd4e>:18: SettingWithCopyWarning: \n",
      "A value is trying to be set on a copy of a slice from a DataFrame\n",
      "\n",
      "See the caveats in the documentation: https://pandas.pydata.org/pandas-docs/stable/user_guide/indexing.html#returning-a-view-versus-a-copy\n",
      "  new_row['Débit horaire'] = yhat\n"
     ]
    },
    {
     "name": "stdout",
     "output_type": "stream",
     "text": [
      ">expected=562.0, predicted=429.9\n"
     ]
    },
    {
     "name": "stderr",
     "output_type": "stream",
     "text": [
      "<ipython-input-89-bf7755a0bd4e>:18: SettingWithCopyWarning: \n",
      "A value is trying to be set on a copy of a slice from a DataFrame\n",
      "\n",
      "See the caveats in the documentation: https://pandas.pydata.org/pandas-docs/stable/user_guide/indexing.html#returning-a-view-versus-a-copy\n",
      "  new_row['Débit horaire'] = yhat\n"
     ]
    },
    {
     "name": "stdout",
     "output_type": "stream",
     "text": [
      ">expected=930.0, predicted=861.3\n"
     ]
    },
    {
     "name": "stderr",
     "output_type": "stream",
     "text": [
      "<ipython-input-89-bf7755a0bd4e>:18: SettingWithCopyWarning: \n",
      "A value is trying to be set on a copy of a slice from a DataFrame\n",
      "\n",
      "See the caveats in the documentation: https://pandas.pydata.org/pandas-docs/stable/user_guide/indexing.html#returning-a-view-versus-a-copy\n",
      "  new_row['Débit horaire'] = yhat\n"
     ]
    },
    {
     "name": "stdout",
     "output_type": "stream",
     "text": [
      ">expected=1242.0, predicted=1235.5\n"
     ]
    },
    {
     "name": "stderr",
     "output_type": "stream",
     "text": [
      "<ipython-input-89-bf7755a0bd4e>:18: SettingWithCopyWarning: \n",
      "A value is trying to be set on a copy of a slice from a DataFrame\n",
      "\n",
      "See the caveats in the documentation: https://pandas.pydata.org/pandas-docs/stable/user_guide/indexing.html#returning-a-view-versus-a-copy\n",
      "  new_row['Débit horaire'] = yhat\n"
     ]
    },
    {
     "name": "stdout",
     "output_type": "stream",
     "text": [
      ">expected=1547.0, predicted=1368.3\n"
     ]
    },
    {
     "name": "stderr",
     "output_type": "stream",
     "text": [
      "<ipython-input-89-bf7755a0bd4e>:18: SettingWithCopyWarning: \n",
      "A value is trying to be set on a copy of a slice from a DataFrame\n",
      "\n",
      "See the caveats in the documentation: https://pandas.pydata.org/pandas-docs/stable/user_guide/indexing.html#returning-a-view-versus-a-copy\n",
      "  new_row['Débit horaire'] = yhat\n"
     ]
    },
    {
     "name": "stdout",
     "output_type": "stream",
     "text": [
      ">expected=1319.0, predicted=1481.4\n"
     ]
    },
    {
     "name": "stderr",
     "output_type": "stream",
     "text": [
      "<ipython-input-89-bf7755a0bd4e>:18: SettingWithCopyWarning: \n",
      "A value is trying to be set on a copy of a slice from a DataFrame\n",
      "\n",
      "See the caveats in the documentation: https://pandas.pydata.org/pandas-docs/stable/user_guide/indexing.html#returning-a-view-versus-a-copy\n",
      "  new_row['Débit horaire'] = yhat\n"
     ]
    },
    {
     "name": "stdout",
     "output_type": "stream",
     "text": [
      ">expected=1465.0, predicted=1382.6\n"
     ]
    },
    {
     "name": "stderr",
     "output_type": "stream",
     "text": [
      "<ipython-input-89-bf7755a0bd4e>:18: SettingWithCopyWarning: \n",
      "A value is trying to be set on a copy of a slice from a DataFrame\n",
      "\n",
      "See the caveats in the documentation: https://pandas.pydata.org/pandas-docs/stable/user_guide/indexing.html#returning-a-view-versus-a-copy\n",
      "  new_row['Débit horaire'] = yhat\n"
     ]
    },
    {
     "name": "stdout",
     "output_type": "stream",
     "text": [
      ">expected=1574.0, predicted=1460.5\n"
     ]
    },
    {
     "name": "stderr",
     "output_type": "stream",
     "text": [
      "<ipython-input-89-bf7755a0bd4e>:18: SettingWithCopyWarning: \n",
      "A value is trying to be set on a copy of a slice from a DataFrame\n",
      "\n",
      "See the caveats in the documentation: https://pandas.pydata.org/pandas-docs/stable/user_guide/indexing.html#returning-a-view-versus-a-copy\n",
      "  new_row['Débit horaire'] = yhat\n"
     ]
    },
    {
     "name": "stdout",
     "output_type": "stream",
     "text": [
      ">expected=1438.0, predicted=1414.5\n"
     ]
    },
    {
     "name": "stderr",
     "output_type": "stream",
     "text": [
      "<ipython-input-89-bf7755a0bd4e>:18: SettingWithCopyWarning: \n",
      "A value is trying to be set on a copy of a slice from a DataFrame\n",
      "\n",
      "See the caveats in the documentation: https://pandas.pydata.org/pandas-docs/stable/user_guide/indexing.html#returning-a-view-versus-a-copy\n",
      "  new_row['Débit horaire'] = yhat\n"
     ]
    },
    {
     "name": "stdout",
     "output_type": "stream",
     "text": [
      ">expected=1313.0, predicted=1389.2\n"
     ]
    },
    {
     "name": "stderr",
     "output_type": "stream",
     "text": [
      "<ipython-input-89-bf7755a0bd4e>:18: SettingWithCopyWarning: \n",
      "A value is trying to be set on a copy of a slice from a DataFrame\n",
      "\n",
      "See the caveats in the documentation: https://pandas.pydata.org/pandas-docs/stable/user_guide/indexing.html#returning-a-view-versus-a-copy\n",
      "  new_row['Débit horaire'] = yhat\n"
     ]
    },
    {
     "name": "stdout",
     "output_type": "stream",
     "text": [
      ">expected=1380.0, predicted=1265.0\n"
     ]
    },
    {
     "name": "stderr",
     "output_type": "stream",
     "text": [
      "<ipython-input-89-bf7755a0bd4e>:18: SettingWithCopyWarning: \n",
      "A value is trying to be set on a copy of a slice from a DataFrame\n",
      "\n",
      "See the caveats in the documentation: https://pandas.pydata.org/pandas-docs/stable/user_guide/indexing.html#returning-a-view-versus-a-copy\n",
      "  new_row['Débit horaire'] = yhat\n"
     ]
    },
    {
     "name": "stdout",
     "output_type": "stream",
     "text": [
      ">expected=1487.0, predicted=1377.1\n"
     ]
    },
    {
     "name": "stderr",
     "output_type": "stream",
     "text": [
      "<ipython-input-89-bf7755a0bd4e>:18: SettingWithCopyWarning: \n",
      "A value is trying to be set on a copy of a slice from a DataFrame\n",
      "\n",
      "See the caveats in the documentation: https://pandas.pydata.org/pandas-docs/stable/user_guide/indexing.html#returning-a-view-versus-a-copy\n",
      "  new_row['Débit horaire'] = yhat\n"
     ]
    },
    {
     "name": "stdout",
     "output_type": "stream",
     "text": [
      ">expected=1440.0, predicted=1362.6\n"
     ]
    },
    {
     "name": "stderr",
     "output_type": "stream",
     "text": [
      "<ipython-input-89-bf7755a0bd4e>:18: SettingWithCopyWarning: \n",
      "A value is trying to be set on a copy of a slice from a DataFrame\n",
      "\n",
      "See the caveats in the documentation: https://pandas.pydata.org/pandas-docs/stable/user_guide/indexing.html#returning-a-view-versus-a-copy\n",
      "  new_row['Débit horaire'] = yhat\n"
     ]
    },
    {
     "name": "stdout",
     "output_type": "stream",
     "text": [
      ">expected=1386.0, predicted=1414.5\n"
     ]
    },
    {
     "name": "stderr",
     "output_type": "stream",
     "text": [
      "<ipython-input-89-bf7755a0bd4e>:18: SettingWithCopyWarning: \n",
      "A value is trying to be set on a copy of a slice from a DataFrame\n",
      "\n",
      "See the caveats in the documentation: https://pandas.pydata.org/pandas-docs/stable/user_guide/indexing.html#returning-a-view-versus-a-copy\n",
      "  new_row['Débit horaire'] = yhat\n"
     ]
    },
    {
     "name": "stdout",
     "output_type": "stream",
     "text": [
      ">expected=1712.0, predicted=1376.4\n"
     ]
    },
    {
     "name": "stderr",
     "output_type": "stream",
     "text": [
      "<ipython-input-89-bf7755a0bd4e>:18: SettingWithCopyWarning: \n",
      "A value is trying to be set on a copy of a slice from a DataFrame\n",
      "\n",
      "See the caveats in the documentation: https://pandas.pydata.org/pandas-docs/stable/user_guide/indexing.html#returning-a-view-versus-a-copy\n",
      "  new_row['Débit horaire'] = yhat\n"
     ]
    },
    {
     "name": "stdout",
     "output_type": "stream",
     "text": [
      ">expected=1478.0, predicted=1492.9\n"
     ]
    },
    {
     "name": "stderr",
     "output_type": "stream",
     "text": [
      "<ipython-input-89-bf7755a0bd4e>:18: SettingWithCopyWarning: \n",
      "A value is trying to be set on a copy of a slice from a DataFrame\n",
      "\n",
      "See the caveats in the documentation: https://pandas.pydata.org/pandas-docs/stable/user_guide/indexing.html#returning-a-view-versus-a-copy\n",
      "  new_row['Débit horaire'] = yhat\n"
     ]
    },
    {
     "name": "stdout",
     "output_type": "stream",
     "text": [
      ">expected=1441.0, predicted=1388.7\n"
     ]
    },
    {
     "name": "stderr",
     "output_type": "stream",
     "text": [
      "<ipython-input-89-bf7755a0bd4e>:18: SettingWithCopyWarning: \n",
      "A value is trying to be set on a copy of a slice from a DataFrame\n",
      "\n",
      "See the caveats in the documentation: https://pandas.pydata.org/pandas-docs/stable/user_guide/indexing.html#returning-a-view-versus-a-copy\n",
      "  new_row['Débit horaire'] = yhat\n"
     ]
    },
    {
     "name": "stdout",
     "output_type": "stream",
     "text": [
      ">expected=1272.0, predicted=1223.8\n"
     ]
    },
    {
     "name": "stderr",
     "output_type": "stream",
     "text": [
      "<ipython-input-89-bf7755a0bd4e>:18: SettingWithCopyWarning: \n",
      "A value is trying to be set on a copy of a slice from a DataFrame\n",
      "\n",
      "See the caveats in the documentation: https://pandas.pydata.org/pandas-docs/stable/user_guide/indexing.html#returning-a-view-versus-a-copy\n",
      "  new_row['Débit horaire'] = yhat\n"
     ]
    },
    {
     "name": "stdout",
     "output_type": "stream",
     "text": [
      ">expected=1092.0, predicted=1094.8\n"
     ]
    },
    {
     "name": "stderr",
     "output_type": "stream",
     "text": [
      "<ipython-input-89-bf7755a0bd4e>:18: SettingWithCopyWarning: \n",
      "A value is trying to be set on a copy of a slice from a DataFrame\n",
      "\n",
      "See the caveats in the documentation: https://pandas.pydata.org/pandas-docs/stable/user_guide/indexing.html#returning-a-view-versus-a-copy\n",
      "  new_row['Débit horaire'] = yhat\n"
     ]
    },
    {
     "name": "stdout",
     "output_type": "stream",
     "text": [
      ">expected=828.0, predicted=834.5\n"
     ]
    },
    {
     "name": "stderr",
     "output_type": "stream",
     "text": [
      "<ipython-input-89-bf7755a0bd4e>:18: SettingWithCopyWarning: \n",
      "A value is trying to be set on a copy of a slice from a DataFrame\n",
      "\n",
      "See the caveats in the documentation: https://pandas.pydata.org/pandas-docs/stable/user_guide/indexing.html#returning-a-view-versus-a-copy\n",
      "  new_row['Débit horaire'] = yhat\n"
     ]
    },
    {
     "name": "stdout",
     "output_type": "stream",
     "text": [
      ">expected=636.0, predicted=663.0\n"
     ]
    },
    {
     "name": "stderr",
     "output_type": "stream",
     "text": [
      "<ipython-input-89-bf7755a0bd4e>:18: SettingWithCopyWarning: \n",
      "A value is trying to be set on a copy of a slice from a DataFrame\n",
      "\n",
      "See the caveats in the documentation: https://pandas.pydata.org/pandas-docs/stable/user_guide/indexing.html#returning-a-view-versus-a-copy\n",
      "  new_row['Débit horaire'] = yhat\n"
     ]
    },
    {
     "name": "stdout",
     "output_type": "stream",
     "text": [
      ">expected=612.0, predicted=596.9\n"
     ]
    },
    {
     "name": "stderr",
     "output_type": "stream",
     "text": [
      "<ipython-input-89-bf7755a0bd4e>:18: SettingWithCopyWarning: \n",
      "A value is trying to be set on a copy of a slice from a DataFrame\n",
      "\n",
      "See the caveats in the documentation: https://pandas.pydata.org/pandas-docs/stable/user_guide/indexing.html#returning-a-view-versus-a-copy\n",
      "  new_row['Débit horaire'] = yhat\n"
     ]
    },
    {
     "name": "stdout",
     "output_type": "stream",
     "text": [
      ">expected=531.0, predicted=523.8\n"
     ]
    },
    {
     "name": "stderr",
     "output_type": "stream",
     "text": [
      "<ipython-input-89-bf7755a0bd4e>:18: SettingWithCopyWarning: \n",
      "A value is trying to be set on a copy of a slice from a DataFrame\n",
      "\n",
      "See the caveats in the documentation: https://pandas.pydata.org/pandas-docs/stable/user_guide/indexing.html#returning-a-view-versus-a-copy\n",
      "  new_row['Débit horaire'] = yhat\n"
     ]
    },
    {
     "name": "stdout",
     "output_type": "stream",
     "text": [
      ">expected=378.0, predicted=415.8\n"
     ]
    },
    {
     "name": "stderr",
     "output_type": "stream",
     "text": [
      "<ipython-input-89-bf7755a0bd4e>:18: SettingWithCopyWarning: \n",
      "A value is trying to be set on a copy of a slice from a DataFrame\n",
      "\n",
      "See the caveats in the documentation: https://pandas.pydata.org/pandas-docs/stable/user_guide/indexing.html#returning-a-view-versus-a-copy\n",
      "  new_row['Débit horaire'] = yhat\n"
     ]
    },
    {
     "name": "stdout",
     "output_type": "stream",
     "text": [
      ">expected=411.0, predicted=283.6\n"
     ]
    },
    {
     "name": "stderr",
     "output_type": "stream",
     "text": [
      "<ipython-input-89-bf7755a0bd4e>:18: SettingWithCopyWarning: \n",
      "A value is trying to be set on a copy of a slice from a DataFrame\n",
      "\n",
      "See the caveats in the documentation: https://pandas.pydata.org/pandas-docs/stable/user_guide/indexing.html#returning-a-view-versus-a-copy\n",
      "  new_row['Débit horaire'] = yhat\n"
     ]
    },
    {
     "name": "stdout",
     "output_type": "stream",
     "text": [
      ">expected=391.0, predicted=509.7\n"
     ]
    },
    {
     "name": "stderr",
     "output_type": "stream",
     "text": [
      "<ipython-input-89-bf7755a0bd4e>:18: SettingWithCopyWarning: \n",
      "A value is trying to be set on a copy of a slice from a DataFrame\n",
      "\n",
      "See the caveats in the documentation: https://pandas.pydata.org/pandas-docs/stable/user_guide/indexing.html#returning-a-view-versus-a-copy\n",
      "  new_row['Débit horaire'] = yhat\n"
     ]
    },
    {
     "name": "stdout",
     "output_type": "stream",
     "text": [
      ">expected=767.0, predicted=771.9\n"
     ]
    },
    {
     "name": "stderr",
     "output_type": "stream",
     "text": [
      "<ipython-input-89-bf7755a0bd4e>:18: SettingWithCopyWarning: \n",
      "A value is trying to be set on a copy of a slice from a DataFrame\n",
      "\n",
      "See the caveats in the documentation: https://pandas.pydata.org/pandas-docs/stable/user_guide/indexing.html#returning-a-view-versus-a-copy\n",
      "  new_row['Débit horaire'] = yhat\n"
     ]
    },
    {
     "name": "stdout",
     "output_type": "stream",
     "text": [
      ">expected=1147.0, predicted=1037.8\n"
     ]
    },
    {
     "name": "stderr",
     "output_type": "stream",
     "text": [
      "<ipython-input-89-bf7755a0bd4e>:18: SettingWithCopyWarning: \n",
      "A value is trying to be set on a copy of a slice from a DataFrame\n",
      "\n",
      "See the caveats in the documentation: https://pandas.pydata.org/pandas-docs/stable/user_guide/indexing.html#returning-a-view-versus-a-copy\n",
      "  new_row['Débit horaire'] = yhat\n"
     ]
    },
    {
     "name": "stdout",
     "output_type": "stream",
     "text": [
      ">expected=1495.0, predicted=1421.7\n"
     ]
    },
    {
     "name": "stderr",
     "output_type": "stream",
     "text": [
      "<ipython-input-89-bf7755a0bd4e>:18: SettingWithCopyWarning: \n",
      "A value is trying to be set on a copy of a slice from a DataFrame\n",
      "\n",
      "See the caveats in the documentation: https://pandas.pydata.org/pandas-docs/stable/user_guide/indexing.html#returning-a-view-versus-a-copy\n",
      "  new_row['Débit horaire'] = yhat\n"
     ]
    },
    {
     "name": "stdout",
     "output_type": "stream",
     "text": [
      ">expected=1740.0, predicted=1534.2\n"
     ]
    },
    {
     "name": "stderr",
     "output_type": "stream",
     "text": [
      "<ipython-input-89-bf7755a0bd4e>:18: SettingWithCopyWarning: \n",
      "A value is trying to be set on a copy of a slice from a DataFrame\n",
      "\n",
      "See the caveats in the documentation: https://pandas.pydata.org/pandas-docs/stable/user_guide/indexing.html#returning-a-view-versus-a-copy\n",
      "  new_row['Débit horaire'] = yhat\n"
     ]
    },
    {
     "name": "stdout",
     "output_type": "stream",
     "text": [
      ">expected=1647.0, predicted=1440.8\n"
     ]
    },
    {
     "name": "stderr",
     "output_type": "stream",
     "text": [
      "<ipython-input-89-bf7755a0bd4e>:18: SettingWithCopyWarning: \n",
      "A value is trying to be set on a copy of a slice from a DataFrame\n",
      "\n",
      "See the caveats in the documentation: https://pandas.pydata.org/pandas-docs/stable/user_guide/indexing.html#returning-a-view-versus-a-copy\n",
      "  new_row['Débit horaire'] = yhat\n"
     ]
    },
    {
     "name": "stdout",
     "output_type": "stream",
     "text": [
      ">expected=1688.0, predicted=1385.4\n"
     ]
    },
    {
     "name": "stderr",
     "output_type": "stream",
     "text": [
      "<ipython-input-89-bf7755a0bd4e>:18: SettingWithCopyWarning: \n",
      "A value is trying to be set on a copy of a slice from a DataFrame\n",
      "\n",
      "See the caveats in the documentation: https://pandas.pydata.org/pandas-docs/stable/user_guide/indexing.html#returning-a-view-versus-a-copy\n",
      "  new_row['Débit horaire'] = yhat\n"
     ]
    },
    {
     "name": "stdout",
     "output_type": "stream",
     "text": [
      ">expected=1627.0, predicted=1411.7\n"
     ]
    },
    {
     "name": "stderr",
     "output_type": "stream",
     "text": [
      "<ipython-input-89-bf7755a0bd4e>:18: SettingWithCopyWarning: \n",
      "A value is trying to be set on a copy of a slice from a DataFrame\n",
      "\n",
      "See the caveats in the documentation: https://pandas.pydata.org/pandas-docs/stable/user_guide/indexing.html#returning-a-view-versus-a-copy\n",
      "  new_row['Débit horaire'] = yhat\n"
     ]
    },
    {
     "name": "stdout",
     "output_type": "stream",
     "text": [
      ">expected=1561.0, predicted=1450.4\n"
     ]
    },
    {
     "name": "stderr",
     "output_type": "stream",
     "text": [
      "<ipython-input-89-bf7755a0bd4e>:18: SettingWithCopyWarning: \n",
      "A value is trying to be set on a copy of a slice from a DataFrame\n",
      "\n",
      "See the caveats in the documentation: https://pandas.pydata.org/pandas-docs/stable/user_guide/indexing.html#returning-a-view-versus-a-copy\n",
      "  new_row['Débit horaire'] = yhat\n"
     ]
    },
    {
     "name": "stdout",
     "output_type": "stream",
     "text": [
      ">expected=1465.0, predicted=1398.0\n"
     ]
    },
    {
     "name": "stderr",
     "output_type": "stream",
     "text": [
      "<ipython-input-89-bf7755a0bd4e>:18: SettingWithCopyWarning: \n",
      "A value is trying to be set on a copy of a slice from a DataFrame\n",
      "\n",
      "See the caveats in the documentation: https://pandas.pydata.org/pandas-docs/stable/user_guide/indexing.html#returning-a-view-versus-a-copy\n",
      "  new_row['Débit horaire'] = yhat\n"
     ]
    },
    {
     "name": "stdout",
     "output_type": "stream",
     "text": [
      ">expected=1251.0, predicted=1340.8\n"
     ]
    },
    {
     "name": "stderr",
     "output_type": "stream",
     "text": [
      "<ipython-input-89-bf7755a0bd4e>:18: SettingWithCopyWarning: \n",
      "A value is trying to be set on a copy of a slice from a DataFrame\n",
      "\n",
      "See the caveats in the documentation: https://pandas.pydata.org/pandas-docs/stable/user_guide/indexing.html#returning-a-view-versus-a-copy\n",
      "  new_row['Débit horaire'] = yhat\n"
     ]
    },
    {
     "name": "stdout",
     "output_type": "stream",
     "text": [
      ">expected=1674.0, predicted=1244.1\n"
     ]
    },
    {
     "name": "stderr",
     "output_type": "stream",
     "text": [
      "<ipython-input-89-bf7755a0bd4e>:18: SettingWithCopyWarning: \n",
      "A value is trying to be set on a copy of a slice from a DataFrame\n",
      "\n",
      "See the caveats in the documentation: https://pandas.pydata.org/pandas-docs/stable/user_guide/indexing.html#returning-a-view-versus-a-copy\n",
      "  new_row['Débit horaire'] = yhat\n"
     ]
    },
    {
     "name": "stdout",
     "output_type": "stream",
     "text": [
      ">expected=1514.0, predicted=1366.3\n"
     ]
    },
    {
     "name": "stderr",
     "output_type": "stream",
     "text": [
      "<ipython-input-89-bf7755a0bd4e>:18: SettingWithCopyWarning: \n",
      "A value is trying to be set on a copy of a slice from a DataFrame\n",
      "\n",
      "See the caveats in the documentation: https://pandas.pydata.org/pandas-docs/stable/user_guide/indexing.html#returning-a-view-versus-a-copy\n",
      "  new_row['Débit horaire'] = yhat\n"
     ]
    },
    {
     "name": "stdout",
     "output_type": "stream",
     "text": [
      ">expected=1457.0, predicted=1455.6\n"
     ]
    },
    {
     "name": "stderr",
     "output_type": "stream",
     "text": [
      "<ipython-input-89-bf7755a0bd4e>:18: SettingWithCopyWarning: \n",
      "A value is trying to be set on a copy of a slice from a DataFrame\n",
      "\n",
      "See the caveats in the documentation: https://pandas.pydata.org/pandas-docs/stable/user_guide/indexing.html#returning-a-view-versus-a-copy\n",
      "  new_row['Débit horaire'] = yhat\n"
     ]
    },
    {
     "name": "stdout",
     "output_type": "stream",
     "text": [
      ">expected=1433.0, predicted=1429.5\n"
     ]
    },
    {
     "name": "stderr",
     "output_type": "stream",
     "text": [
      "<ipython-input-89-bf7755a0bd4e>:18: SettingWithCopyWarning: \n",
      "A value is trying to be set on a copy of a slice from a DataFrame\n",
      "\n",
      "See the caveats in the documentation: https://pandas.pydata.org/pandas-docs/stable/user_guide/indexing.html#returning-a-view-versus-a-copy\n",
      "  new_row['Débit horaire'] = yhat\n"
     ]
    },
    {
     "name": "stdout",
     "output_type": "stream",
     "text": [
      ">expected=1253.0, predicted=1422.6\n"
     ]
    },
    {
     "name": "stderr",
     "output_type": "stream",
     "text": [
      "<ipython-input-89-bf7755a0bd4e>:18: SettingWithCopyWarning: \n",
      "A value is trying to be set on a copy of a slice from a DataFrame\n",
      "\n",
      "See the caveats in the documentation: https://pandas.pydata.org/pandas-docs/stable/user_guide/indexing.html#returning-a-view-versus-a-copy\n",
      "  new_row['Débit horaire'] = yhat\n"
     ]
    },
    {
     "name": "stdout",
     "output_type": "stream",
     "text": [
      ">expected=1069.0, predicted=1112.3\n"
     ]
    },
    {
     "name": "stderr",
     "output_type": "stream",
     "text": [
      "<ipython-input-89-bf7755a0bd4e>:18: SettingWithCopyWarning: \n",
      "A value is trying to be set on a copy of a slice from a DataFrame\n",
      "\n",
      "See the caveats in the documentation: https://pandas.pydata.org/pandas-docs/stable/user_guide/indexing.html#returning-a-view-versus-a-copy\n",
      "  new_row['Débit horaire'] = yhat\n"
     ]
    },
    {
     "name": "stdout",
     "output_type": "stream",
     "text": [
      ">expected=950.0, predicted=1077.8\n",
      ">expected=863.0, predicted=826.0\n",
      "MAE: 29999.210\n"
     ]
    },
    {
     "name": "stderr",
     "output_type": "stream",
     "text": [
      "<ipython-input-89-bf7755a0bd4e>:18: SettingWithCopyWarning: \n",
      "A value is trying to be set on a copy of a slice from a DataFrame\n",
      "\n",
      "See the caveats in the documentation: https://pandas.pydata.org/pandas-docs/stable/user_guide/indexing.html#returning-a-view-versus-a-copy\n",
      "  new_row['Débit horaire'] = yhat\n"
     ]
    }
   ],
   "source": [
    "mae, y, yhat = walk_forward_validation(champs_numeric, 72)\n",
    "print('MAE: %.3f' % mae)\n"
   ]
  },
  {
   "cell_type": "code",
   "execution_count": 98,
   "metadata": {},
   "outputs": [
    {
     "name": "stdout",
     "output_type": "stream",
     "text": [
      "173.20279958705416\n"
     ]
    },
    {
     "data": {
      "image/png": "[encoded data removed]",
      "text/plain": [
       "<Figure size 432x288 with 1 Axes>"
      ]
     },
     "metadata": {
      "needs_background": "light"
     },
     "output_type": "display_data"
    }
   ],
   "source": [
    "rmse = np.sqrt(mae)\n",
    "print(rmse)\n",
    "y_res = y.reset_index(drop=True)\n",
    "# plot expected vs preducted\n",
    "plt.plot(y_res, label='Expected')\n",
    "plt.plot(yhat, label='Predicted')\n",
    "plt.legend()\n",
    "plt.show()"
   ]
  },
  {
   "cell_type": "code",
   "execution_count": 190,
   "metadata": {},
   "outputs": [
    {
     "name": "stdout",
     "output_type": "stream",
     "text": [
      ">expected=615.0, predicted=503.2\n",
      ">expected=439.0, predicted=410.0\n",
      ">expected=273.0, predicted=276.9\n",
      ">expected=212.0, predicted=188.7\n",
      ">expected=361.0, predicted=207.0\n",
      ">expected=367.0, predicted=584.7\n",
      ">expected=677.0, predicted=675.4\n",
      ">expected=1381.0, predicted=1090.1\n",
      ">expected=1398.0, predicted=1414.5\n",
      ">expected=1374.0, predicted=1395.2\n",
      ">expected=1305.0, predicted=1369.8\n",
      ">expected=1342.0, predicted=1283.0\n",
      ">expected=1331.0, predicted=1327.5\n",
      ">expected=1282.0, predicted=1264.6\n",
      ">expected=1269.0, predicted=1358.0\n",
      ">expected=1322.0, predicted=1236.3\n",
      ">expected=1416.0, predicted=1290.3\n",
      ">expected=1337.0, predicted=1323.6\n",
      ">expected=1383.0, predicted=1273.3\n",
      ">expected=1400.0, predicted=1335.2\n",
      ">expected=1258.0, predicted=1231.4\n",
      ">expected=928.0, predicted=1018.1\n",
      ">expected=880.0, predicted=847.0\n",
      ">expected=772.0, predicted=694.5\n",
      ">expected=948.0, predicted=655.0\n",
      ">expected=1621.0, predicted=906.3\n",
      ">expected=631.0, predicted=1237.0\n",
      ">expected=261.0, predicted=527.4\n",
      ">expected=219.0, predicted=350.3\n",
      ">expected=562.0, predicted=374.0\n",
      ">expected=930.0, predicted=836.2\n",
      ">expected=1242.0, predicted=1230.1\n",
      ">expected=1547.0, predicted=1340.0\n",
      ">expected=1319.0, predicted=1492.9\n",
      ">expected=1465.0, predicted=1356.0\n",
      ">expected=1574.0, predicted=1405.4\n",
      ">expected=1438.0, predicted=1437.4\n",
      ">expected=1313.0, predicted=1361.6\n",
      ">expected=1380.0, predicted=1226.8\n",
      ">expected=1487.0, predicted=1384.8\n",
      ">expected=1440.0, predicted=1426.8\n",
      ">expected=1386.0, predicted=1336.9\n",
      ">expected=1712.0, predicted=1370.4\n",
      ">expected=1478.0, predicted=1439.9\n",
      ">expected=1441.0, predicted=1360.8\n",
      ">expected=1272.0, predicted=1214.8\n",
      ">expected=1092.0, predicted=1040.4\n",
      ">expected=828.0, predicted=823.4\n",
      ">expected=636.0, predicted=654.4\n",
      ">expected=612.0, predicted=667.0\n",
      ">expected=531.0, predicted=609.5\n",
      ">expected=378.0, predicted=419.0\n",
      ">expected=411.0, predicted=331.1\n",
      ">expected=391.0, predicted=547.7\n",
      ">expected=767.0, predicted=747.0\n",
      ">expected=1147.0, predicted=1066.9\n",
      ">expected=1495.0, predicted=1368.1\n",
      ">expected=1740.0, predicted=1432.7\n",
      ">expected=1647.0, predicted=1396.9\n",
      ">expected=1688.0, predicted=1422.5\n",
      ">expected=1627.0, predicted=1459.4\n",
      ">expected=1561.0, predicted=1418.3\n",
      ">expected=1465.0, predicted=1439.8\n",
      ">expected=1251.0, predicted=1453.4\n",
      ">expected=1674.0, predicted=1301.2\n",
      ">expected=1514.0, predicted=1448.3\n",
      ">expected=1457.0, predicted=1440.2\n",
      ">expected=1433.0, predicted=1490.4\n",
      ">expected=1253.0, predicted=1522.5\n",
      ">expected=1069.0, predicted=1066.7\n",
      ">expected=950.0, predicted=1082.5\n",
      ">expected=863.0, predicted=898.9\n",
      "MAE: 31138.411\n"
     ]
    }
   ],
   "source": [
    "mae, y, yhat = walk_forward_validation(champs_numeric, 72)\n",
    "print('MAE: %.3f' % mae)"
   ]
  },
  {
   "cell_type": "code",
   "execution_count": 191,
   "metadata": {},
   "outputs": [
    {
     "name": "stdout",
     "output_type": "stream",
     "text": [
      "176.4607910155455\n"
     ]
    },
    {
     "data": {
      "image/png": "[encoded data removed]",
      "text/plain": [
       "<Figure size 432x288 with 1 Axes>"
      ]
     },
     "metadata": {
      "needs_background": "light"
     },
     "output_type": "display_data"
    }
   ],
   "source": [
    "rmse = np.sqrt(mae)\n",
    "print(rmse)\n",
    "y_res = y.reset_index(drop=True)\n",
    "# plot expected vs preducted\n",
    "plt.plot(y_res, label='Expected')\n",
    "plt.plot(yhat, label='Predicted')\n",
    "plt.legend()\n",
    "plt.show()"
   ]
  },
  {
   "cell_type": "code",
   "execution_count": 179,
   "metadata": {},
   "outputs": [
    {
     "name": "stdout",
     "output_type": "stream",
     "text": [
      "134.6733053933984\n"
     ]
    },
    {
     "data": {
      "image/png": "[encoded data removed]",
      "text/plain": [
       "<Figure size 432x288 with 1 Axes>"
      ]
     },
     "metadata": {
      "needs_background": "light"
     },
     "output_type": "display_data"
    }
   ],
   "source": [
    "champs_numeric = champs.drop(columns=['Libelle', 'Date et heure de comptage', 'Libelle noeud amont', 'Libelle noeud aval', 'date', 'timestamp', 'timestamp_short', 'arrondissement','Identifiant arc', 'holiday', 'yearmonth', 'day_of_week'], errors='ignore')\n",
    "\n",
    "champs_numeric = pd.get_dummies(champs_numeric, columns=['Etat arc', 'Etat trafic'], drop_first=True)\n",
    "\n",
    "train, test = champs_numeric.iloc[:-72, :], champs_numeric.iloc[-72:, :]\n",
    "\n",
    "trainX, trainy = train.loc[:, train.columns != 'Débit horaire'], train.loc[:, ['Débit horaire']]\n",
    "testX, testy = test.loc[:, test.columns != 'Débit horaire'], test.loc[:, ['Débit horaire']]\n",
    "\n",
    "\n",
    "trainX = np.asarray(trainX)\n",
    "trainy = np.asarray(trainy)\n",
    "testX = np.asarray(testX)\n",
    "testy = np.asarray(testy)\n",
    "\n",
    "model = XGBRegressor(objective='reg:squarederror', n_estimators=1000)\n",
    "model.fit(trainX, trainy)\n",
    "\n",
    "yhat = model.predict(testX)\n",
    "\n",
    "error = mean_squared_error(testy, yhat)\n",
    "\n",
    "rmse = np.sqrt(error)\n",
    "print(rmse)\n",
    "# plot expected vs preducted\n",
    "plt.plot(testy, label='Expected')\n",
    "plt.plot(yhat, label='Predicted')\n",
    "plt.legend()\n",
    "plt.show()\n"
   ]
  },
  {
   "cell_type": "code",
   "execution_count": 180,
   "metadata": {},
   "outputs": [
    {
     "name": "stdout",
     "output_type": "stream",
     "text": [
      "Index(['Unnamed: 0', 'Débit horaire', 'Taux d'occupation',\n",
      "       'Identifiant noeud amont', 'Identifiant noeud aval', 'holiday_period',\n",
      "       'is_holiday', 'chantiers1', 'chantiers_pertu1',\n",
      "       'Niveau de perturbation', 'Statut', 'temp', 'humidity', 'visibility',\n",
      "       'Variation de pression en 24 heures',\n",
      "       'Précipitations dans les 24 dernières heures', 'rain', 'atm_pressure',\n",
      "       'wind_speed', 'events1', 'short_event', 'long_event', 'number_markets',\n",
      "       'ongoing_market', 'cos_week', 'sin_week', 'cos_weekday', 'sin_weekday',\n",
      "       'cos_year_day', 'sin_year_day', 'cos_timestamp_hour',\n",
      "       'sin_timestamp_hour', 'Etat arc_Invalide', 'Etat trafic_Fluide',\n",
      "       'Etat trafic_Inconnu', 'Etat trafic_Pré-saturé', 'Etat trafic_Saturé'],\n",
      "      dtype='object')\n"
     ]
    }
   ],
   "source": [
    "print(champs_numeric.columns)"
   ]
  },
  {
   "cell_type": "code",
   "execution_count": 192,
   "metadata": {},
   "outputs": [
    {
     "name": "stdout",
     "output_type": "stream",
     "text": [
      "152.65536858092622\n"
     ]
    },
    {
     "data": {
      "image/png": "[encoded data removed]",
      "text/plain": [
       "<Figure size 432x288 with 1 Axes>"
      ]
     },
     "metadata": {
      "needs_background": "light"
     },
     "output_type": "display_data"
    }
   ],
   "source": [
    "champs_numeric = champs.drop(columns=['Libelle', 'Date et heure de comptage', 'Libelle noeud amont', 'Libelle noeud aval', 'date', 'timestamp', 'timestamp_short', 'arrondissement','Identifiant arc', 'holiday', 'yearmonth', 'day_of_week'], errors='ignore')\n",
    "\n",
    "champs_numeric = pd.get_dummies(champs_numeric, columns=['Etat arc', 'Etat trafic'], drop_first=True)\n",
    "\n",
    "train, test = champs_numeric.iloc[:-120, :], champs_numeric.iloc[-120:, :]\n",
    "\n",
    "trainX, trainy = train.loc[:, train.columns != 'Débit horaire'], train.loc[:, ['Débit horaire']]\n",
    "testX, testy = test.loc[:, test.columns != 'Débit horaire'], test.loc[:, ['Débit horaire']]\n",
    "\n",
    "\n",
    "trainX = np.asarray(trainX)\n",
    "trainy = np.asarray(trainy)\n",
    "testX = np.asarray(testX)\n",
    "testy = np.asarray(testy)\n",
    "\n",
    "model = XGBRegressor(objective='reg:squarederror', n_estimators=1000)\n",
    "model.fit(trainX, trainy)\n",
    "\n",
    "yhat = model.predict(testX)\n",
    "\n",
    "error = mean_squared_error(testy, yhat)\n",
    "\n",
    "rmse = np.sqrt(error)\n",
    "print(rmse)\n",
    "# plot expected vs preducted\n",
    "plt.plot(testy, label='Expected')\n",
    "plt.plot(yhat, label='Predicted')\n",
    "plt.legend()\n",
    "plt.show()"
   ]
  },
  {
   "cell_type": "code",
   "execution_count": null,
   "metadata": {},
   "outputs": [],
   "source": []
  }
 ],
 "metadata": {
  "kernelspec": {
   "display_name": "Python 3",
   "language": "python",
   "name": "python3"
  },
  "language_info": {
   "codemirror_mode": {
    "name": "ipython",
    "version": 3
   },
   "file_extension": ".py",
   "mimetype": "text/x-python",
   "name": "python",
   "nbconvert_exporter": "python",
   "pygments_lexer": "ipython3",
   "version": "3.8.3"
  }
 },
 "nbformat": 4,
 "nbformat_minor": 4
}
